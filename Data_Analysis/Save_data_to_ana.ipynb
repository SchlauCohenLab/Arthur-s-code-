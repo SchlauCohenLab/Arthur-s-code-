{
 "cells": [
  {
   "cell_type": "markdown",
   "metadata": {},
   "source": [
    "# 0.Import Everything needed"
   ]
  },
  {
   "cell_type": "code",
   "execution_count": 20,
   "metadata": {},
   "outputs": [],
   "source": [
    "import numpy as np\n",
    "import tkinter as tk\n",
    "from tkinter import Tk, filedialog\n",
    "import matplotlib.pyplot as plt\n",
    "import matplotlib.gridspec as gridspec\n",
    "import scipy.io\n",
    "import xarray as xr\n",
    "from tkinter.filedialog import askopenfilename, askopenfilenames\n",
    "from matplotlib.ticker import MaxNLocator\n",
    "import os\n",
    "from scipy.optimize import curve_fit\n",
    "%matplotlib widget\n",
    "\n",
    "# allow multiple outputs in one cell\n",
    "from IPython.core.interactiveshell import InteractiveShell\n",
    "InteractiveShell.ast_node_interactivity = 'all'\n",
    "\n",
    "def heatmap_interactive(_x, _y, _data, _title, _cmap='jet', _symlog=False):\n",
    "    fig = plt.figure(figsize=(8, 8))\n",
    "    gs = gridspec.GridSpec(2, 2, width_ratios=[1, 0.5], height_ratios=[0.5, 1], hspace=0.2, wspace=0.2)\n",
    "    ax_main = plt.subplot(gs[1, 0])\n",
    "    main_plot = ax_main.pcolormesh(_x, _y, _data, cmap=_cmap)\n",
    "    ax_main.set(xlabel='Delay / ps', ylabel='Wavelength / nm')\n",
    "    # set mixed log-lin scale with threshold value linthresh\n",
    "    if _symlog:\n",
    "        ax_main.set_xscale('symlog', linthresh=0.01)\n",
    "    # set axis range to min and max values\n",
    "    ax_main.set_xlim(_x[0],_x[-1])\n",
    "    ax_main.set_ylim(_y[0],_y[-1]) \n",
    "\n",
    "    ax_kin = plt.subplot(gs[0, 0])\n",
    "    line_kin, = ax_kin.plot(_x,np.zeros(_x.shape))\n",
    "    kin_zero_line, = ax_kin.plot([_x[0],_x[-1]],[0,0], color=\"0.6\")\n",
    "    ax_kin.set_xlim(_x[0],_x[-1])\n",
    "    if _symlog:\n",
    "        ax_kin.set_xscale('symlog', linthresh=0.01)\n",
    "\n",
    "    ax_spec = plt.subplot(gs[1, 1])\n",
    "    line_spec, = ax_spec.plot(np.zeros(_y.shape),_y)\n",
    "    spec_zero_line, = ax_spec.plot([0,0],[_y[0],_y[-1]], color=\"0.6\")\n",
    "    ax_spec.set_ylim(_y[0],_y[-1])        \n",
    "    \n",
    "    # This lower bounds list is necessary because the blocks in the 2D-plot cover a certain range\n",
    "    def create_lower_bounds(_value_list):\n",
    "        result = np.empty_like(_value_list)\n",
    "        #first lower bound is equal to the lowest value in the nm-list\n",
    "        result[0] = _value_list[0]\n",
    "        #example: lower bound for 100 ps is 97.5 ps if the value prior is 95 ps, and 75 ps if the value prior is 50 ps.\n",
    "        for i in range(1,len(_value_list)):\n",
    "            result[i] = (_value_list[i]+_value_list[i-1])/2\n",
    "        return result    \n",
    "    \n",
    "    nm_lower_bounds = create_lower_bounds(_y)\n",
    "    time_lower_bounds = create_lower_bounds(_x)\n",
    "    \n",
    "    def nm_to_index(_nm):\n",
    "        return np.where(_nm > nm_lower_bounds)[0][-1]\n",
    "    \n",
    "    def time_to_index(_time):\n",
    "        return np.where(_time > time_lower_bounds)[0][-1]\n",
    "    \n",
    "    def mouse_move(event):\n",
    "        x = event.xdata\n",
    "        y = event.ydata\n",
    "        if x is not None and y is not None:\n",
    "            if x>=_x[0] and x<=_x[-1] and y>=_y[0] and y<=_y[-1]:\n",
    "                # update spectra slice and rescale\n",
    "                new_spec = _data[:,time_to_index(x)]\n",
    "                line_spec.set_xdata(new_spec)\n",
    "                spec_bounds = ax_spec.get_ylim()\n",
    "                spec_range = new_spec[(_y>=spec_bounds[0]) & (_y<=spec_bounds[1])].max()-new_spec[(_y>=spec_bounds[0]) & (_y<=spec_bounds[1])].min()\n",
    "                ax_spec.set_xlim(new_spec[(_y>=spec_bounds[0]) & (_y<=spec_bounds[1])].min()-0.1*spec_range,new_spec[(_y>=spec_bounds[0]) & (_y<=spec_bounds[1])].max()+0.1*spec_range)            \n",
    "\n",
    "                # update kinetic slice and rescale\n",
    "                new_kin = _data[nm_to_index(y),:]\n",
    "                line_kin.set_ydata(new_kin)\n",
    "                kin_bounds = ax_kin.get_xlim()  \n",
    "                kin_range = new_kin[(_x>=kin_bounds[0]) & (_x<=kin_bounds[1])].max()-new_kin[(_x>=kin_bounds[0]) & (_x<=kin_bounds[1])].min()                \n",
    "                ax_kin.set_ylim(new_kin[(_x>=kin_bounds[0]) & (_x<=kin_bounds[1])].min()-0.1*kin_range,new_kin[(_x>=kin_bounds[0]) & (_x<=kin_bounds[1])].max()+0.1*kin_range)\n",
    "                \n",
    "                # redraw figure\n",
    "                fig.canvas.draw_idle()\n",
    "             \n",
    "    fig.canvas.mpl_connect('motion_notify_event', mouse_move) \n",
    "    \n",
    "    # find max absolute value of 2D data in the specified zoom mode of the plot\n",
    "    def get_maxvalue(_xlim, _ylim, _xvals, _yvals, _data_array):\n",
    "        y_filter = (_yvals>=_ylim[0]) & (_yvals<=_ylim[1])\n",
    "        x_filter = (_xvals>=_xlim[0]) & (_xvals<=_xlim[1])\n",
    "        \n",
    "        if not np.all(y_filter == False) and not np.all(x_filter == False):\n",
    "            return np.amax(np.abs(_data_array[y_filter][:,x_filter]))\n",
    "        else:\n",
    "            return 0\n",
    "    \n",
    "    def on_xlims_change(event_ax):\n",
    "        ax_kin.set_xlim(event_ax.get_xlim())\n",
    "        \n",
    "        new_max = get_maxvalue(event_ax.get_xlim(),event_ax.get_ylim(),_x,_y,_data)\n",
    "        if new_max > 0:\n",
    "            main_plot.set_clim(vmin=-new_max, vmax=new_max)\n",
    "\n",
    "    def on_ylims_change(event_ax):\n",
    "        ax_spec.set_ylim(event_ax.get_ylim())\n",
    "        \n",
    "        new_max = get_maxvalue(event_ax.get_xlim(),event_ax.get_ylim(),_x,_y,_data)\n",
    "        if new_max > 0:\n",
    "            main_plot.set_clim(vmin=-new_max, vmax=new_max)        \n",
    "\n",
    "    ax_main.callbacks.connect('xlim_changed', on_xlims_change)\n",
    "    ax_main.callbacks.connect('ylim_changed', on_ylims_change)\n",
    "    plt.show(block=False)\n",
    "\n",
    "    \n",
    "def lin(x,a,b):\n",
    "    return a*x+b"
   ]
  },
  {
   "cell_type": "markdown",
   "metadata": {},
   "source": [
    "# 1. Import data .txt files "
   ]
  },
  {
   "cell_type": "code",
   "execution_count": 21,
   "metadata": {},
   "outputs": [
    {
     "data": {
      "text/plain": [
       "<Figure size 640x480 with 0 Axes>"
      ]
     },
     "execution_count": 21,
     "metadata": {},
     "output_type": "execute_result"
    },
    {
     "data": {
      "text/plain": [
       "[<matplotlib.lines.Line2D at 0x2f30b178050>]"
      ]
     },
     "execution_count": 21,
     "metadata": {},
     "output_type": "execute_result"
    },
    {
     "data": {
      "text/plain": [
       "[<matplotlib.lines.Line2D at 0x2f30b151af0>]"
      ]
     },
     "execution_count": 21,
     "metadata": {},
     "output_type": "execute_result"
    },
    {
     "data": {
      "text/plain": [
       "Text(0.5, 0, 'Pixels)')"
      ]
     },
     "execution_count": 21,
     "metadata": {},
     "output_type": "execute_result"
    },
    {
     "data": {
      "text/plain": [
       "Text(0, 0.5, 'Wavelength (nm)')"
      ]
     },
     "execution_count": 21,
     "metadata": {},
     "output_type": "execute_result"
    },
    {
     "data": {
      "text/plain": [
       "<matplotlib.legend.Legend at 0x2f3065b8920>"
      ]
     },
     "execution_count": 21,
     "metadata": {},
     "output_type": "execute_result"
    },
    {
     "data": {
      "application/vnd.jupyter.widget-view+json": {
       "model_id": "70533ef621d64e8c89910c2edc3e83c5",
       "version_major": 2,
       "version_minor": 0
      },
      "image/png": "[encoded data removed]",
      "text/html": [
       "\n",
       "            <div style=\"display: inline-block;\">\n",
       "                <div class=\"jupyter-widgets widget-label\" style=\"text-align: center;\">\n",
       "                    Figure\n",
       "                </div>\n",
       "                <img src='data:image/png;base64,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' width=640.0/>\n",
       "            </div>\n",
       "        "
      ],
      "text/plain": [
       "Canvas(toolbar=Toolbar(toolitems=[('Home', 'Reset original view', 'home', 'home'), ('Back', 'Back to previous …"
      ]
     },
     "metadata": {},
     "output_type": "display_data"
    },
    {
     "name": "stdout",
     "output_type": "stream",
     "text": [
      "y = 0.23393504710716825x + 305.1436457862895\n"
     ]
    }
   ],
   "source": [
    "#Wavelength Calibaration\n",
    "pixels = np.arange(0, 2048)\n",
    "pixels_calibation = [898, 962, 1255,1495,1675] #Enter the values of your pixel calibration\n",
    "wv_calibation = [514, 532, 600,650,700] #Enter the corresponding wl \n",
    "\n",
    "calibration,_ = curve_fit(lin,pixels_calibation,wv_calibation, method= \"dogbox\")\n",
    "Fit_calibration = lin(pixels,*calibration)\n",
    "\n",
    "plt.figure()\n",
    "plt.plot(pixels_calibation,wv_calibation,  'o', label='Data')\n",
    "plt.plot(pixels,Fit_calibration, '-', label='Fit')\n",
    "plt.xlabel('Pixels)')\n",
    "plt.ylabel('Wavelength (nm)')\n",
    "plt.legend()\n",
    "plt.grid(\"On\")\n",
    "plt.show()\n",
    "print(f\"y = {calibration[0]}x + {calibration[1]}\")\n",
    "\n",
    "lambda_values = calibration[0] * pixels + calibration[1]"
   ]
  },
  {
   "cell_type": "code",
   "execution_count": 22,
   "metadata": {},
   "outputs": [
    {
     "name": "stdout",
     "output_type": "stream",
     "text": [
      "<xarray.Dataset>\n",
      "Dimensions:   (time: 128, spectral: 2048)\n",
      "Coordinates:\n",
      "  * time      (time) float64 -10.0 -5.0 -1.0 -0.9 -0.8 ... 70.0 80.0 90.0 100.0\n",
      "  * spectral  (spectral) float64 305.1 305.4 305.6 305.8 ... 783.5 783.8 784.0\n",
      "Data variables:\n",
      "    data      (time, spectral) float64 0.0004263 0.0005598 ... -0.01921 -0.01758\n"
     ]
    }
   ],
   "source": [
    "#Pump Wavelenght (in nm)\n",
    "Pump = 400 \n",
    "\n",
    "#Get time vector data file\n",
    "time_file = askopenfilename(filetypes=[(\"Text files\", \"*.txt\")], title=\"Select Time vector data\")\n",
    "time = np.loadtxt(time_file)\n",
    "#time = time / 1000  # convert from fs to ps\n",
    "\n",
    "# Get TA scan files\n",
    "ta_scan_files = askopenfilenames(filetypes=[(\"Text files\", \"*.txt\")], title=\"Select TA scan files\")\n",
    "\n",
    "if len(ta_scan_files) > 1:\n",
    "    Full_Data = np.zeros((2048, len(time), len(ta_scan_files))) #Array that will contain all the \n",
    "    for n, file in enumerate(ta_scan_files):\n",
    "        data = np.loadtxt(file)\n",
    "        Full_Data[:, :, n] = data  # save data array to 3D array (lambda, time, scan)\n",
    "    \n",
    "    for ii in range(len(ta_scan_files)): #Flip the sign if pump scatter is not negative.\n",
    "        for jj in range(len(time)):\n",
    "            if Full_Data[Pump, jj, ii] > 0:\n",
    "                Full_Data[:, jj, ii] *= -1\n",
    "\n",
    "    scan = np.mean(Full_Data, axis=2)\n",
    "    scan = scan - np.mean(scan[:,:5],axis=1)[:, np.newaxis] #Baseline correction \n",
    "else:\n",
    "    scan = np.loadtxt(ta_scan_files[0])\n",
    "# Now 'scan' contains the processed data\n",
    "\n",
    "#Create an xarray to manipulate the data (much easier)\n",
    "dataset = xr.Dataset(\n",
    "    {\n",
    "        \"data\": ([\"time\",\"spectral\",], np.transpose(scan))\n",
    "    },\n",
    "    coords={\n",
    "        \"time\": time,\n",
    "        \"spectral\": lambda_values\n",
    "    }\n",
    ")\n",
    "\n",
    "# Print the dataset\n",
    "print(dataset)"
   ]
  },
  {
   "cell_type": "code",
   "execution_count": 23,
   "metadata": {},
   "outputs": [
    {
     "data": {
      "application/vnd.jupyter.widget-view+json": {
       "model_id": "7cb2d504cb264cfaabfb8949c3d3b3dd",
       "version_major": 2,
       "version_minor": 0
      },
      "image/png": "[encoded data removed]",
      "text/html": [
       "\n",
       "            <div style=\"display: inline-block;\">\n",
       "                <div class=\"jupyter-widgets widget-label\" style=\"text-align: center;\">\n",
       "                    Figure\n",
       "                </div>\n",
       "                <img src='data:image/png;base64,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' width=800.0/>\n",
       "            </div>\n",
       "        "
      ],
      "text/plain": [
       "Canvas(toolbar=Toolbar(toolitems=[('Home', 'Reset original view', 'home', 'home'), ('Back', 'Back to previous …"
      ]
     },
     "metadata": {},
     "output_type": "display_data"
    }
   ],
   "source": [
    "heatmap_interactive(time, lambda_values, scan,'Averaged scan plot',_symlog=False)"
   ]
  },
  {
   "cell_type": "markdown",
   "metadata": {},
   "source": [
    "# 2. Create the .ana file"
   ]
  },
  {
   "cell_type": "code",
   "execution_count": 24,
   "metadata": {},
   "outputs": [
    {
     "data": {
      "text/plain": [
       "25"
      ]
     },
     "execution_count": 24,
     "metadata": {},
     "output_type": "execute_result"
    },
    {
     "data": {
      "text/plain": [
       "16"
      ]
     },
     "execution_count": 24,
     "metadata": {},
     "output_type": "execute_result"
    },
    {
     "data": {
      "text/plain": [
       "15"
      ]
     },
     "execution_count": 24,
     "metadata": {},
     "output_type": "execute_result"
    },
    {
     "data": {
      "text/plain": [
       "14"
      ]
     },
     "execution_count": 24,
     "metadata": {},
     "output_type": "execute_result"
    },
    {
     "data": {
      "text/plain": [
       "753"
      ]
     },
     "execution_count": 24,
     "metadata": {},
     "output_type": "execute_result"
    },
    {
     "data": {
      "text/plain": [
       "39099"
      ]
     },
     "execution_count": 24,
     "metadata": {},
     "output_type": "execute_result"
    },
    {
     "data": {
      "text/plain": [
       "48467"
      ]
     },
     "execution_count": 24,
     "metadata": {},
     "output_type": "execute_result"
    },
    {
     "data": {
      "text/plain": [
       "49281"
      ]
     },
     "execution_count": 24,
     "metadata": {},
     "output_type": "execute_result"
    },
    {
     "data": {
      "text/plain": [
       "49395"
      ]
     },
     "execution_count": 24,
     "metadata": {},
     "output_type": "execute_result"
    },
    {
     "data": {
      "text/plain": [
       "48490"
      ]
     },
     "execution_count": 24,
     "metadata": {},
     "output_type": "execute_result"
    },
    {
     "data": {
      "text/plain": [
       "48265"
      ]
     },
     "execution_count": 24,
     "metadata": {},
     "output_type": "execute_result"
    },
    {
     "data": {
      "text/plain": [
       "48469"
      ]
     },
     "execution_count": 24,
     "metadata": {},
     "output_type": "execute_result"
    },
    {
     "data": {
      "text/plain": [
       "48373"
      ]
     },
     "execution_count": 24,
     "metadata": {},
     "output_type": "execute_result"
    },
    {
     "data": {
      "text/plain": [
       "48862"
      ]
     },
     "execution_count": 24,
     "metadata": {},
     "output_type": "execute_result"
    },
    {
     "data": {
      "text/plain": [
       "48238"
      ]
     },
     "execution_count": 24,
     "metadata": {},
     "output_type": "execute_result"
    },
    {
     "data": {
      "text/plain": [
       "48949"
      ]
     },
     "execution_count": 24,
     "metadata": {},
     "output_type": "execute_result"
    },
    {
     "data": {
      "text/plain": [
       "48667"
      ]
     },
     "execution_count": 24,
     "metadata": {},
     "output_type": "execute_result"
    },
    {
     "data": {
      "text/plain": [
       "49114"
      ]
     },
     "execution_count": 24,
     "metadata": {},
     "output_type": "execute_result"
    },
    {
     "data": {
      "text/plain": [
       "49417"
      ]
     },
     "execution_count": 24,
     "metadata": {},
     "output_type": "execute_result"
    },
    {
     "data": {
      "text/plain": [
       "48349"
      ]
     },
     "execution_count": 24,
     "metadata": {},
     "output_type": "execute_result"
    },
    {
     "data": {
      "text/plain": [
       "49052"
      ]
     },
     "execution_count": 24,
     "metadata": {},
     "output_type": "execute_result"
    },
    {
     "data": {
      "text/plain": [
       "48585"
      ]
     },
     "execution_count": 24,
     "metadata": {},
     "output_type": "execute_result"
    },
    {
     "data": {
      "text/plain": [
       "47963"
      ]
     },
     "execution_count": 24,
     "metadata": {},
     "output_type": "execute_result"
    },
    {
     "data": {
      "text/plain": [
       "48806"
      ]
     },
     "execution_count": 24,
     "metadata": {},
     "output_type": "execute_result"
    },
    {
     "data": {
      "text/plain": [
       "49255"
      ]
     },
     "execution_count": 24,
     "metadata": {},
     "output_type": "execute_result"
    },
    {
     "data": {
      "text/plain": [
       "49041"
      ]
     },
     "execution_count": 24,
     "metadata": {},
     "output_type": "execute_result"
    },
    {
     "data": {
      "text/plain": [
       "48193"
      ]
     },
     "execution_count": 24,
     "metadata": {},
     "output_type": "execute_result"
    },
    {
     "data": {
      "text/plain": [
       "48813"
      ]
     },
     "execution_count": 24,
     "metadata": {},
     "output_type": "execute_result"
    },
    {
     "data": {
      "text/plain": [
       "48855"
      ]
     },
     "execution_count": 24,
     "metadata": {},
     "output_type": "execute_result"
    },
    {
     "data": {
      "text/plain": [
       "48238"
      ]
     },
     "execution_count": 24,
     "metadata": {},
     "output_type": "execute_result"
    },
    {
     "data": {
      "text/plain": [
       "49047"
      ]
     },
     "execution_count": 24,
     "metadata": {},
     "output_type": "execute_result"
    },
    {
     "data": {
      "text/plain": [
       "48617"
      ]
     },
     "execution_count": 24,
     "metadata": {},
     "output_type": "execute_result"
    },
    {
     "data": {
      "text/plain": [
       "48833"
      ]
     },
     "execution_count": 24,
     "metadata": {},
     "output_type": "execute_result"
    },
    {
     "data": {
      "text/plain": [
       "48106"
      ]
     },
     "execution_count": 24,
     "metadata": {},
     "output_type": "execute_result"
    },
    {
     "data": {
      "text/plain": [
       "48175"
      ]
     },
     "execution_count": 24,
     "metadata": {},
     "output_type": "execute_result"
    },
    {
     "data": {
      "text/plain": [
       "48612"
      ]
     },
     "execution_count": 24,
     "metadata": {},
     "output_type": "execute_result"
    },
    {
     "data": {
      "text/plain": [
       "47809"
      ]
     },
     "execution_count": 24,
     "metadata": {},
     "output_type": "execute_result"
    },
    {
     "data": {
      "text/plain": [
       "48186"
      ]
     },
     "execution_count": 24,
     "metadata": {},
     "output_type": "execute_result"
    },
    {
     "data": {
      "text/plain": [
       "48161"
      ]
     },
     "execution_count": 24,
     "metadata": {},
     "output_type": "execute_result"
    },
    {
     "data": {
      "text/plain": [
       "48584"
      ]
     },
     "execution_count": 24,
     "metadata": {},
     "output_type": "execute_result"
    },
    {
     "data": {
      "text/plain": [
       "48093"
      ]
     },
     "execution_count": 24,
     "metadata": {},
     "output_type": "execute_result"
    },
    {
     "data": {
      "text/plain": [
       "48711"
      ]
     },
     "execution_count": 24,
     "metadata": {},
     "output_type": "execute_result"
    },
    {
     "data": {
      "text/plain": [
       "48070"
      ]
     },
     "execution_count": 24,
     "metadata": {},
     "output_type": "execute_result"
    },
    {
     "data": {
      "text/plain": [
       "48554"
      ]
     },
     "execution_count": 24,
     "metadata": {},
     "output_type": "execute_result"
    },
    {
     "data": {
      "text/plain": [
       "48676"
      ]
     },
     "execution_count": 24,
     "metadata": {},
     "output_type": "execute_result"
    },
    {
     "data": {
      "text/plain": [
       "48416"
      ]
     },
     "execution_count": 24,
     "metadata": {},
     "output_type": "execute_result"
    },
    {
     "data": {
      "text/plain": [
       "47808"
      ]
     },
     "execution_count": 24,
     "metadata": {},
     "output_type": "execute_result"
    },
    {
     "data": {
      "text/plain": [
       "48445"
      ]
     },
     "execution_count": 24,
     "metadata": {},
     "output_type": "execute_result"
    },
    {
     "data": {
      "text/plain": [
       "48281"
      ]
     },
     "execution_count": 24,
     "metadata": {},
     "output_type": "execute_result"
    },
    {
     "data": {
      "text/plain": [
       "48678"
      ]
     },
     "execution_count": 24,
     "metadata": {},
     "output_type": "execute_result"
    },
    {
     "data": {
      "text/plain": [
       "48552"
      ]
     },
     "execution_count": 24,
     "metadata": {},
     "output_type": "execute_result"
    },
    {
     "data": {
      "text/plain": [
       "48430"
      ]
     },
     "execution_count": 24,
     "metadata": {},
     "output_type": "execute_result"
    },
    {
     "data": {
      "text/plain": [
       "48035"
      ]
     },
     "execution_count": 24,
     "metadata": {},
     "output_type": "execute_result"
    },
    {
     "data": {
      "text/plain": [
       "48363"
      ]
     },
     "execution_count": 24,
     "metadata": {},
     "output_type": "execute_result"
    },
    {
     "data": {
      "text/plain": [
       "48359"
      ]
     },
     "execution_count": 24,
     "metadata": {},
     "output_type": "execute_result"
    },
    {
     "data": {
      "text/plain": [
       "48255"
      ]
     },
     "execution_count": 24,
     "metadata": {},
     "output_type": "execute_result"
    },
    {
     "data": {
      "text/plain": [
       "48666"
      ]
     },
     "execution_count": 24,
     "metadata": {},
     "output_type": "execute_result"
    },
    {
     "data": {
      "text/plain": [
       "48192"
      ]
     },
     "execution_count": 24,
     "metadata": {},
     "output_type": "execute_result"
    },
    {
     "data": {
      "text/plain": [
       "48242"
      ]
     },
     "execution_count": 24,
     "metadata": {},
     "output_type": "execute_result"
    },
    {
     "data": {
      "text/plain": [
       "48685"
      ]
     },
     "execution_count": 24,
     "metadata": {},
     "output_type": "execute_result"
    },
    {
     "data": {
      "text/plain": [
       "48312"
      ]
     },
     "execution_count": 24,
     "metadata": {},
     "output_type": "execute_result"
    },
    {
     "data": {
      "text/plain": [
       "48727"
      ]
     },
     "execution_count": 24,
     "metadata": {},
     "output_type": "execute_result"
    },
    {
     "data": {
      "text/plain": [
       "48019"
      ]
     },
     "execution_count": 24,
     "metadata": {},
     "output_type": "execute_result"
    },
    {
     "data": {
      "text/plain": [
       "48668"
      ]
     },
     "execution_count": 24,
     "metadata": {},
     "output_type": "execute_result"
    },
    {
     "data": {
      "text/plain": [
       "48100"
      ]
     },
     "execution_count": 24,
     "metadata": {},
     "output_type": "execute_result"
    },
    {
     "data": {
      "text/plain": [
       "48007"
      ]
     },
     "execution_count": 24,
     "metadata": {},
     "output_type": "execute_result"
    },
    {
     "data": {
      "text/plain": [
       "48168"
      ]
     },
     "execution_count": 24,
     "metadata": {},
     "output_type": "execute_result"
    },
    {
     "data": {
      "text/plain": [
       "48606"
      ]
     },
     "execution_count": 24,
     "metadata": {},
     "output_type": "execute_result"
    },
    {
     "data": {
      "text/plain": [
       "48481"
      ]
     },
     "execution_count": 24,
     "metadata": {},
     "output_type": "execute_result"
    },
    {
     "data": {
      "text/plain": [
       "48792"
      ]
     },
     "execution_count": 24,
     "metadata": {},
     "output_type": "execute_result"
    },
    {
     "data": {
      "text/plain": [
       "48089"
      ]
     },
     "execution_count": 24,
     "metadata": {},
     "output_type": "execute_result"
    },
    {
     "data": {
      "text/plain": [
       "48205"
      ]
     },
     "execution_count": 24,
     "metadata": {},
     "output_type": "execute_result"
    },
    {
     "data": {
      "text/plain": [
       "48600"
      ]
     },
     "execution_count": 24,
     "metadata": {},
     "output_type": "execute_result"
    },
    {
     "data": {
      "text/plain": [
       "48973"
      ]
     },
     "execution_count": 24,
     "metadata": {},
     "output_type": "execute_result"
    },
    {
     "data": {
      "text/plain": [
       "48544"
      ]
     },
     "execution_count": 24,
     "metadata": {},
     "output_type": "execute_result"
    },
    {
     "data": {
      "text/plain": [
       "49161"
      ]
     },
     "execution_count": 24,
     "metadata": {},
     "output_type": "execute_result"
    },
    {
     "data": {
      "text/plain": [
       "48256"
      ]
     },
     "execution_count": 24,
     "metadata": {},
     "output_type": "execute_result"
    },
    {
     "data": {
      "text/plain": [
       "48437"
      ]
     },
     "execution_count": 24,
     "metadata": {},
     "output_type": "execute_result"
    },
    {
     "data": {
      "text/plain": [
       "48639"
      ]
     },
     "execution_count": 24,
     "metadata": {},
     "output_type": "execute_result"
    },
    {
     "data": {
      "text/plain": [
       "48807"
      ]
     },
     "execution_count": 24,
     "metadata": {},
     "output_type": "execute_result"
    },
    {
     "data": {
      "text/plain": [
       "48723"
      ]
     },
     "execution_count": 24,
     "metadata": {},
     "output_type": "execute_result"
    },
    {
     "data": {
      "text/plain": [
       "48286"
      ]
     },
     "execution_count": 24,
     "metadata": {},
     "output_type": "execute_result"
    },
    {
     "data": {
      "text/plain": [
       "49053"
      ]
     },
     "execution_count": 24,
     "metadata": {},
     "output_type": "execute_result"
    },
    {
     "data": {
      "text/plain": [
       "48802"
      ]
     },
     "execution_count": 24,
     "metadata": {},
     "output_type": "execute_result"
    },
    {
     "data": {
      "text/plain": [
       "49137"
      ]
     },
     "execution_count": 24,
     "metadata": {},
     "output_type": "execute_result"
    },
    {
     "data": {
      "text/plain": [
       "48996"
      ]
     },
     "execution_count": 24,
     "metadata": {},
     "output_type": "execute_result"
    },
    {
     "data": {
      "text/plain": [
       "47839"
      ]
     },
     "execution_count": 24,
     "metadata": {},
     "output_type": "execute_result"
    },
    {
     "data": {
      "text/plain": [
       "49049"
      ]
     },
     "execution_count": 24,
     "metadata": {},
     "output_type": "execute_result"
    },
    {
     "data": {
      "text/plain": [
       "49205"
      ]
     },
     "execution_count": 24,
     "metadata": {},
     "output_type": "execute_result"
    },
    {
     "data": {
      "text/plain": [
       "47962"
      ]
     },
     "execution_count": 24,
     "metadata": {},
     "output_type": "execute_result"
    },
    {
     "data": {
      "text/plain": [
       "48838"
      ]
     },
     "execution_count": 24,
     "metadata": {},
     "output_type": "execute_result"
    },
    {
     "data": {
      "text/plain": [
       "49121"
      ]
     },
     "execution_count": 24,
     "metadata": {},
     "output_type": "execute_result"
    },
    {
     "data": {
      "text/plain": [
       "49153"
      ]
     },
     "execution_count": 24,
     "metadata": {},
     "output_type": "execute_result"
    },
    {
     "data": {
      "text/plain": [
       "49257"
      ]
     },
     "execution_count": 24,
     "metadata": {},
     "output_type": "execute_result"
    },
    {
     "data": {
      "text/plain": [
       "48786"
      ]
     },
     "execution_count": 24,
     "metadata": {},
     "output_type": "execute_result"
    },
    {
     "data": {
      "text/plain": [
       "49218"
      ]
     },
     "execution_count": 24,
     "metadata": {},
     "output_type": "execute_result"
    },
    {
     "data": {
      "text/plain": [
       "47972"
      ]
     },
     "execution_count": 24,
     "metadata": {},
     "output_type": "execute_result"
    },
    {
     "data": {
      "text/plain": [
       "49377"
      ]
     },
     "execution_count": 24,
     "metadata": {},
     "output_type": "execute_result"
    },
    {
     "data": {
      "text/plain": [
       "48509"
      ]
     },
     "execution_count": 24,
     "metadata": {},
     "output_type": "execute_result"
    },
    {
     "data": {
      "text/plain": [
       "48230"
      ]
     },
     "execution_count": 24,
     "metadata": {},
     "output_type": "execute_result"
    },
    {
     "data": {
      "text/plain": [
       "48465"
      ]
     },
     "execution_count": 24,
     "metadata": {},
     "output_type": "execute_result"
    },
    {
     "data": {
      "text/plain": [
       "48542"
      ]
     },
     "execution_count": 24,
     "metadata": {},
     "output_type": "execute_result"
    },
    {
     "data": {
      "text/plain": [
       "49329"
      ]
     },
     "execution_count": 24,
     "metadata": {},
     "output_type": "execute_result"
    },
    {
     "data": {
      "text/plain": [
       "47989"
      ]
     },
     "execution_count": 24,
     "metadata": {},
     "output_type": "execute_result"
    },
    {
     "data": {
      "text/plain": [
       "48378"
      ]
     },
     "execution_count": 24,
     "metadata": {},
     "output_type": "execute_result"
    },
    {
     "data": {
      "text/plain": [
       "48150"
      ]
     },
     "execution_count": 24,
     "metadata": {},
     "output_type": "execute_result"
    },
    {
     "data": {
      "text/plain": [
       "49410"
      ]
     },
     "execution_count": 24,
     "metadata": {},
     "output_type": "execute_result"
    },
    {
     "data": {
      "text/plain": [
       "48805"
      ]
     },
     "execution_count": 24,
     "metadata": {},
     "output_type": "execute_result"
    },
    {
     "data": {
      "text/plain": [
       "47814"
      ]
     },
     "execution_count": 24,
     "metadata": {},
     "output_type": "execute_result"
    },
    {
     "data": {
      "text/plain": [
       "47898"
      ]
     },
     "execution_count": 24,
     "metadata": {},
     "output_type": "execute_result"
    },
    {
     "data": {
      "text/plain": [
       "49313"
      ]
     },
     "execution_count": 24,
     "metadata": {},
     "output_type": "execute_result"
    },
    {
     "data": {
      "text/plain": [
       "49006"
      ]
     },
     "execution_count": 24,
     "metadata": {},
     "output_type": "execute_result"
    },
    {
     "data": {
      "text/plain": [
       "49199"
      ]
     },
     "execution_count": 24,
     "metadata": {},
     "output_type": "execute_result"
    },
    {
     "data": {
      "text/plain": [
       "48750"
      ]
     },
     "execution_count": 24,
     "metadata": {},
     "output_type": "execute_result"
    },
    {
     "data": {
      "text/plain": [
       "49210"
      ]
     },
     "execution_count": 24,
     "metadata": {},
     "output_type": "execute_result"
    },
    {
     "data": {
      "text/plain": [
       "49055"
      ]
     },
     "execution_count": 24,
     "metadata": {},
     "output_type": "execute_result"
    },
    {
     "data": {
      "text/plain": [
       "48254"
      ]
     },
     "execution_count": 24,
     "metadata": {},
     "output_type": "execute_result"
    },
    {
     "data": {
      "text/plain": [
       "49150"
      ]
     },
     "execution_count": 24,
     "metadata": {},
     "output_type": "execute_result"
    },
    {
     "data": {
      "text/plain": [
       "48565"
      ]
     },
     "execution_count": 24,
     "metadata": {},
     "output_type": "execute_result"
    },
    {
     "data": {
      "text/plain": [
       "49060"
      ]
     },
     "execution_count": 24,
     "metadata": {},
     "output_type": "execute_result"
    },
    {
     "data": {
      "text/plain": [
       "48176"
      ]
     },
     "execution_count": 24,
     "metadata": {},
     "output_type": "execute_result"
    },
    {
     "data": {
      "text/plain": [
       "48556"
      ]
     },
     "execution_count": 24,
     "metadata": {},
     "output_type": "execute_result"
    },
    {
     "data": {
      "text/plain": [
       "48093"
      ]
     },
     "execution_count": 24,
     "metadata": {},
     "output_type": "execute_result"
    },
    {
     "data": {
      "text/plain": [
       "48162"
      ]
     },
     "execution_count": 24,
     "metadata": {},
     "output_type": "execute_result"
    },
    {
     "data": {
      "text/plain": [
       "47871"
      ]
     },
     "execution_count": 24,
     "metadata": {},
     "output_type": "execute_result"
    },
    {
     "data": {
      "text/plain": [
       "49013"
      ]
     },
     "execution_count": 24,
     "metadata": {},
     "output_type": "execute_result"
    },
    {
     "data": {
      "text/plain": [
       "48004"
      ]
     },
     "execution_count": 24,
     "metadata": {},
     "output_type": "execute_result"
    },
    {
     "data": {
      "text/plain": [
       "48598"
      ]
     },
     "execution_count": 24,
     "metadata": {},
     "output_type": "execute_result"
    },
    {
     "data": {
      "text/plain": [
       "49059"
      ]
     },
     "execution_count": 24,
     "metadata": {},
     "output_type": "execute_result"
    },
    {
     "data": {
      "text/plain": [
       "49344"
      ]
     },
     "execution_count": 24,
     "metadata": {},
     "output_type": "execute_result"
    },
    {
     "data": {
      "text/plain": [
       "48957"
      ]
     },
     "execution_count": 24,
     "metadata": {},
     "output_type": "execute_result"
    },
    {
     "data": {
      "text/plain": [
       "48483"
      ]
     },
     "execution_count": 24,
     "metadata": {},
     "output_type": "execute_result"
    },
    {
     "data": {
      "text/plain": [
       "49132"
      ]
     },
     "execution_count": 24,
     "metadata": {},
     "output_type": "execute_result"
    },
    {
     "data": {
      "text/plain": [
       "49237"
      ]
     },
     "execution_count": 24,
     "metadata": {},
     "output_type": "execute_result"
    },
    {
     "name": "stdout",
     "output_type": "stream",
     "text": [
      "File 'solventTHF.ana' has been created successfully.\n"
     ]
    }
   ],
   "source": [
    "# Define the filename\n",
    "filename = 'solventTHF.ana'\n",
    "\n",
    "# Open the file for writing\n",
    "with open(filename, 'w') as f:\n",
    "    # Write the header\n",
    "    f.write(\"%FILENAME={}\\n\".format(filename))\n",
    "    f.write(\"%DATATYPE=TAVIS\\n\")\n",
    "    f.write(\"%NUMBERSCANS=1\\n\")\n",
    "    f.write(\"%TIMESCALE=ps\\n\")\n",
    "\n",
    "    # Write the time list\n",
    "    f.write(\"%TIMELIST={}\\n\".format(\"  \".join(map(str, dataset.time.values))))\n",
    "    \n",
    "    # Write the wavelength list\n",
    "    f.write(\"%WAVELENGTHLIST={}\\n\".format(\"  \".join(map(str, dataset.spectral.values))))\n",
    "    \n",
    "    # Write the intensity matrix\n",
    "    intensity_matrix = dataset.data.values  # Get the intensity values\n",
    "    i = 0\n",
    "    for row in intensity_matrix:\n",
    "        if i == 0:\n",
    "            f.write(\"%INTENSITYMATRIX={}\\n\".format(\"  \".join(map(str, row))))\n",
    "            i = i+1\n",
    "        else:\n",
    "            f.write(\"{}\\n\".format(\"  \".join(map(str, row))))\n",
    "\n",
    "print(f\"File '{filename}' has been created successfully.\")"
   ]
  }
 ],
 "metadata": {
  "kernelspec": {
   "display_name": "base",
   "language": "python",
   "name": "python3"
  },
  "language_info": {
   "codemirror_mode": {
    "name": "ipython",
    "version": 3
   },
   "file_extension": ".py",
   "mimetype": "text/x-python",
   "name": "python",
   "nbconvert_exporter": "python",
   "pygments_lexer": "ipython3",
   "version": "3.12.4"
  }
 },
 "nbformat": 4,
 "nbformat_minor": 2
}
