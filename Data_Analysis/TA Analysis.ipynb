{
 "cells": [
  {
   "cell_type": "markdown",
   "id": "c2c1035fb0233df",
   "metadata": {
    "collapsed": false,
    "jupyter": {
     "outputs_hidden": false
    }
   },
   "source": [
    "# Code to visualize and correct TA data "
   ]
  },
  {
   "cell_type": "markdown",
   "id": "7a24491a94947c96",
   "metadata": {
    "collapsed": false,
    "jupyter": {
     "outputs_hidden": false
    }
   },
   "source": [
    "Code to import and visualize the TA data. You also have the possibility to chrip correct,remove the coherence using the solvent scan as a reference, and smooth the data. Prepare the data to be usable by pyglotaran\n",
    "\n",
    "Arthur Vard - varthur@mit.edu"
   ]
  },
  {
   "cell_type": "markdown",
   "id": "500c96b467b7d92e",
   "metadata": {
    "collapsed": false,
    "jupyter": {
     "outputs_hidden": false
    }
   },
   "source": [
    "# 0. Prelude"
   ]
  },
  {
   "cell_type": "code",
   "execution_count": null,
   "id": "970235454629eb50",
   "metadata": {
    "collapsed": false,
    "jupyter": {
     "outputs_hidden": false
    }
   },
   "outputs": [],
   "source": [
    "import numpy as np\n",
    "import tkinter as tk\n",
    "from tkinter import Tk, filedialog\n",
    "import matplotlib.pyplot as plt\n",
    "import matplotlib.gridspec as gridspec\n",
    "import scipy.io\n",
    "import xarray as xr\n",
    "from tkinter.filedialog import askopenfilename, askopenfilenames\n",
    "from matplotlib.ticker import MaxNLocator\n",
    "import os\n",
    "from scipy.interpolate import interp1d\n",
    "from scipy.optimize import curve_fit\n",
    "%matplotlib widget\n",
    "\n",
    "# allow multiple outputs in one cell\n",
    "from IPython.core.interactiveshell import InteractiveShell\n",
    "InteractiveShell.ast_node_interactivity = 'all'\n",
    "\n",
    "def heatmap_interactive(_x, _y, _data, _title, _cmap='jet', _symlog=False):\n",
    "    fig = plt.figure(figsize=(8, 8))\n",
    "    gs = gridspec.GridSpec(2, 2, width_ratios=[1, 0.5], height_ratios=[0.5, 1], hspace=0.2, wspace=0.2)\n",
    "    ax_main = plt.subplot(gs[1, 0])\n",
    "    main_plot = ax_main.pcolormesh(_x, _y, _data, cmap=_cmap)\n",
    "    ax_main.set(xlabel='Delay / ps', ylabel='Wavelength / nm')\n",
    "    # set mixed log-lin scale with threshold value linthresh\n",
    "    if _symlog:\n",
    "        ax_main.set_xscale('symlog', linthresh=0.01)\n",
    "    # set axis range to min and max values\n",
    "    ax_main.set_xlim(_x[0],_x[-1])\n",
    "    ax_main.set_ylim(_y[0],_y[-1]) \n",
    "\n",
    "    ax_kin = plt.subplot(gs[0, 0])\n",
    "    line_kin, = ax_kin.plot(_x,np.zeros(_x.shape))\n",
    "    kin_zero_line, = ax_kin.plot([_x[0],_x[-1]],[0,0], color=\"0.6\")\n",
    "    ax_kin.set_xlim(_x[0],_x[-1])\n",
    "    if _symlog:\n",
    "        ax_kin.set_xscale('symlog', linthresh=0.01)\n",
    "\n",
    "    ax_spec = plt.subplot(gs[1, 1])\n",
    "    line_spec, = ax_spec.plot(np.zeros(_y.shape),_y)\n",
    "    spec_zero_line, = ax_spec.plot([0,0],[_y[0],_y[-1]], color=\"0.6\")\n",
    "    ax_spec.set_ylim(_y[0],_y[-1])        \n",
    "    \n",
    "    # This lower bounds list is necessary because the blocks in the 2D-plot cover a certain range\n",
    "    def create_lower_bounds(_value_list):\n",
    "        result = np.empty_like(_value_list)\n",
    "        #first lower bound is equal to the lowest value in the nm-list\n",
    "        result[0] = _value_list[0]\n",
    "        #example: lower bound for 100 ps is 97.5 ps if the value prior is 95 ps, and 75 ps if the value prior is 50 ps.\n",
    "        for i in range(1,len(_value_list)):\n",
    "            result[i] = (_value_list[i]+_value_list[i-1])/2\n",
    "        return result    \n",
    "    \n",
    "    nm_lower_bounds = create_lower_bounds(_y)\n",
    "    time_lower_bounds = create_lower_bounds(_x)\n",
    "    \n",
    "    def nm_to_index(_nm):\n",
    "        return np.where(_nm > nm_lower_bounds)[0][-1]\n",
    "    \n",
    "    def time_to_index(_time):\n",
    "        return np.where(_time > time_lower_bounds)[0][-1]\n",
    "    \n",
    "    def mouse_move(event):\n",
    "        x = event.xdata\n",
    "        y = event.ydata\n",
    "        if x is not None and y is not None:\n",
    "            if x>=_x[0] and x<=_x[-1] and y>=_y[0] and y<=_y[-1]:\n",
    "                # update spectra slice and rescale\n",
    "                new_spec = _data[:,time_to_index(x)]\n",
    "                line_spec.set_xdata(new_spec)\n",
    "                spec_bounds = ax_spec.get_ylim()\n",
    "                spec_range = new_spec[(_y>=spec_bounds[0]) & (_y<=spec_bounds[1])].max()-new_spec[(_y>=spec_bounds[0]) & (_y<=spec_bounds[1])].min()\n",
    "                ax_spec.set_xlim(new_spec[(_y>=spec_bounds[0]) & (_y<=spec_bounds[1])].min()-0.1*spec_range,new_spec[(_y>=spec_bounds[0]) & (_y<=spec_bounds[1])].max()+0.1*spec_range)            \n",
    "\n",
    "                # update kinetic slice and rescale\n",
    "                new_kin = _data[nm_to_index(y),:]\n",
    "                line_kin.set_ydata(new_kin)\n",
    "                kin_bounds = ax_kin.get_xlim()  \n",
    "                kin_range = new_kin[(_x>=kin_bounds[0]) & (_x<=kin_bounds[1])].max()-new_kin[(_x>=kin_bounds[0]) & (_x<=kin_bounds[1])].min()                \n",
    "                ax_kin.set_ylim(new_kin[(_x>=kin_bounds[0]) & (_x<=kin_bounds[1])].min()-0.1*kin_range,new_kin[(_x>=kin_bounds[0]) & (_x<=kin_bounds[1])].max()+0.1*kin_range)\n",
    "                \n",
    "                # redraw figure\n",
    "                fig.canvas.draw_idle()\n",
    "             \n",
    "    fig.canvas.mpl_connect('motion_notify_event', mouse_move) \n",
    "    \n",
    "    # find max absolute value of 2D data in the specified zoom mode of the plot\n",
    "    def get_maxvalue(_xlim, _ylim, _xvals, _yvals, _data_array):\n",
    "        y_filter = (_yvals>=_ylim[0]) & (_yvals<=_ylim[1])\n",
    "        x_filter = (_xvals>=_xlim[0]) & (_xvals<=_xlim[1])\n",
    "        \n",
    "        if not np.all(y_filter == False) and not np.all(x_filter == False):\n",
    "            return np.amax(np.abs(_data_array[y_filter][:,x_filter]))\n",
    "        else:\n",
    "            return 0\n",
    "    \n",
    "    def on_xlims_change(event_ax):\n",
    "        ax_kin.set_xlim(event_ax.get_xlim())\n",
    "        \n",
    "        new_max = get_maxvalue(event_ax.get_xlim(),event_ax.get_ylim(),_x,_y,_data)\n",
    "        if new_max > 0:\n",
    "            main_plot.set_clim(vmin=-new_max, vmax=new_max)\n",
    "\n",
    "    def on_ylims_change(event_ax):\n",
    "        ax_spec.set_ylim(event_ax.get_ylim())\n",
    "        \n",
    "        new_max = get_maxvalue(event_ax.get_xlim(),event_ax.get_ylim(),_x,_y,_data)\n",
    "        if new_max > 0:\n",
    "            main_plot.set_clim(vmin=-new_max, vmax=new_max)        \n",
    "\n",
    "    ax_main.callbacks.connect('xlim_changed', on_xlims_change)\n",
    "    ax_main.callbacks.connect('ylim_changed', on_ylims_change)\n",
    "    plt.show(block=False)\n",
    "\n",
    "def poly2(x, a, b, c):\n",
    "    return a * x**2 + b * x + c\n",
    "\n",
    "\n",
    "def poly4(x, a, b, c, d, e):\n",
    "    return a * x**4 + b * x**3 + c * x**2 + d * x + e\n",
    "\n",
    "def lin(x,a,b):\n",
    "    return a*x+b\n",
    "\n",
    "def smooth_data_average_window(data, window):\n",
    "    return np.apply_along_axis(lambda m: np.convolve(m, window, mode='same'), axis=0, arr=data)"
   ]
  },
  {
   "cell_type": "markdown",
   "id": "657a3ef484c4cc98",
   "metadata": {
    "collapsed": false,
    "jupyter": {
     "outputs_hidden": false
    }
   },
   "source": [
    "# 1. Import and initial look data"
   ]
  },
  {
   "cell_type": "markdown",
   "id": "d33cf4fc",
   "metadata": {},
   "source": [
    "## Wavelength Calibaration"
   ]
  },
  {
   "cell_type": "code",
   "execution_count": null,
   "id": "481c694d",
   "metadata": {},
   "outputs": [],
   "source": [
    "#Wavelength Calibaration\n",
    "pixels = np.arange(0, 2048)\n",
    "pixels_calibation = [898, 962, 1255,1495,1675]\n",
    "wv_calibation = [514, 532, 600,650,700]\n",
    "\n",
    "calibration,_ = curve_fit(lin,pixels_calibation,wv_calibation, method= \"dogbox\")\n",
    "Fit_calibration = lin(pixels,*calibration)\n",
    "\n",
    "plt.figure()\n",
    "plt.plot(pixels_calibation,wv_calibation,  'o', label='Data')\n",
    "plt.plot(pixels,Fit_calibration, '-', label='Fit')\n",
    "plt.xlabel('Pixels)')\n",
    "plt.ylabel('Wavelength (nm)')\n",
    "plt.legend()\n",
    "plt.grid(\"On\")\n",
    "plt.show()\n",
    "print(f\"y = {calibration[0]}x + {calibration[1]}\")\n",
    "\n",
    "lambda_values = calibration[0] * pixels + calibration[1]"
   ]
  },
  {
   "cell_type": "code",
   "execution_count": null,
   "id": "3175b767965a52fc",
   "metadata": {
    "collapsed": false,
    "jupyter": {
     "outputs_hidden": false
    }
   },
   "outputs": [],
   "source": [
    "#Pump Wavelenght (in nm)\n",
    "Pump = 400 \n",
    "\n",
    "#Get time vector data file\n",
    "time_file = askopenfilename(filetypes=[(\"Text files\", \"*.txt\")], title=\"Select Time vector data\")\n",
    "time = np.loadtxt(time_file)\n",
    "time = time / 1000  # convert from fs to ps\n",
    "\n",
    "# Get TA scan files\n",
    "ta_scan_files = askopenfilenames(filetypes=[(\"Text files\", \"*.txt\")], title=\"Select TA scan files\")\n",
    "\n",
    "if len(ta_scan_files) > 1:\n",
    "    Full_Data = np.zeros((2048, len(time), len(ta_scan_files))) #Array that will contain all the \n",
    "    for n, file in enumerate(ta_scan_files):\n",
    "        data = np.loadtxt(file)\n",
    "        Full_Data[:, :, n] = data  # save data array to 3D array (lambda, time, scan)\n",
    "    \n",
    "    for ii in range(len(ta_scan_files)): #Flip the sign if pump scatter is not negative.\n",
    "        for jj in range(len(time)):\n",
    "            if Full_Data[Pump, jj, ii] > 0:\n",
    "                Full_Data[:, jj, ii] *= -1\n",
    "\n",
    "    scan = np.mean(Full_Data, axis=2)\n",
    "    scan = scan - np.mean(scan[:,:5],axis=1)[:, np.newaxis] #Baseline correction \n",
    "else:\n",
    "    scan = np.loadtxt(ta_scan_files[0])\n",
    "# Now 'scan' contains the processed data\n",
    "\n",
    "#Create an xarray to manipulate the data (much easier)\n",
    "dataset = xr.Dataset(\n",
    "    {\n",
    "        \"data\": ([\"time\",\"spectral\",], np.transpose(scan))\n",
    "    },\n",
    "    coords={\n",
    "        \"time\": time,\n",
    "        \"spectral\": lambda_values\n",
    "    }\n",
    ")\n",
    "\n",
    "# Print the dataset\n",
    "print(dataset)"
   ]
  },
  {
   "cell_type": "markdown",
   "id": "b2619d5c138d4ebd",
   "metadata": {
    "collapsed": false,
    "jupyter": {
     "outputs_hidden": false
    }
   },
   "source": [
    "## Heat map visualization of the data"
   ]
  },
  {
   "cell_type": "code",
   "execution_count": null,
   "id": "ba098a27695bc91d",
   "metadata": {
    "collapsed": false,
    "jupyter": {
     "outputs_hidden": false
    }
   },
   "outputs": [],
   "source": [
    "heatmap_interactive(dataset.time, dataset.spectral, dataset['data'].transpose('spectral','time'),'Averaged scan plot',_symlog=False)"
   ]
  },
  {
   "cell_type": "markdown",
   "id": "880bdf4d777d2586",
   "metadata": {
    "collapsed": false,
    "jupyter": {
     "outputs_hidden": false
    }
   },
   "source": [
    "## Look at a specific TA trace or spectrum"
   ]
  },
  {
   "cell_type": "markdown",
   "id": "8e706d6e032506f2",
   "metadata": {
    "collapsed": false,
    "jupyter": {
     "outputs_hidden": false
    }
   },
   "source": [
    "### TA trace"
   ]
  },
  {
   "cell_type": "code",
   "execution_count": null,
   "id": "d16a2ae213ceb072",
   "metadata": {
    "collapsed": false,
    "jupyter": {
     "outputs_hidden": false
    }
   },
   "outputs": [],
   "source": [
    "plot_data = dataset.data.sel(spectral=[597], method=\"nearest\").sel(time=slice(None, 10))\n",
    "plot_data.plot.line(x=\"time\", aspect=2, size=5);"
   ]
  },
  {
   "cell_type": "markdown",
   "id": "329c984aa7ed15e7",
   "metadata": {
    "collapsed": false,
    "jupyter": {
     "outputs_hidden": false
    }
   },
   "source": [
    "### TA spectrum"
   ]
  },
  {
   "cell_type": "code",
   "execution_count": null,
   "id": "7de598618f659038",
   "metadata": {
    "collapsed": false,
    "jupyter": {
     "outputs_hidden": false
    }
   },
   "outputs": [],
   "source": [
    "plot_data = dataset.data.sel(time=[0.01,0.02,0.03,0.04,0.045,0.06,0.07,0.08,0.09,0.1,0.14,0.16], method=\"nearest\").sel(spectral=slice(409, 755))\n",
    "ax = plot_data.plot.line(x=\"spectral\", aspect=2, size=5)\n",
    "plt.grid(True) \n",
    "plt.show()"
   ]
  },
  {
   "cell_type": "markdown",
   "id": "a5f50e3c61d66f14",
   "metadata": {
    "collapsed": false,
    "jupyter": {
     "outputs_hidden": false
    }
   },
   "source": [
    "# 2.Import solvent data"
   ]
  },
  {
   "cell_type": "code",
   "execution_count": null,
   "id": "05a7ac65-bf5d-401b-a720-1d18d1b7c3f1",
   "metadata": {},
   "outputs": [],
   "source": [
    "# Get TA scan files\n",
    "ta_scan_files = askopenfilenames(filetypes=[(\"Text files\", \"*.txt\")], title=\"Select solvent scan file(s)\")\n",
    "\n",
    "if len(ta_scan_files) > 1:\n",
    "    Full_Data = np.zeros((2048, len(time), len(ta_scan_files))) #Array that will contain all the \n",
    "    for n, file in enumerate(ta_scan_files):\n",
    "        data = np.loadtxt(file)\n",
    "        Full_Data[:, :, n] = data  # save data array to 3D array (lambda, time, scan)\n",
    "    \n",
    "    for ii in range(len(ta_scan_files)): #Flip the sign if pump scatter is not negative.\n",
    "        for jj in range(len(time)):\n",
    "            if Full_Data[Pump, jj, ii] > 0:\n",
    "                Full_Data[:, jj, ii] *= -1\n",
    "\n",
    "    scan_solvent = np.mean(Full_Data, axis=2)\n",
    "    scan_solvent = scan_solvent - np.mean(scan_solvent[:,:5],axis=1)[:, np.newaxis] #Baseline correction \n",
    "else:\n",
    "    scan_solvent = np.loadtxt(ta_scan_files[0])\n",
    "# Now 'scan' contains the processed data\n",
    "\n",
    "#Create an xarray to manipulate the data (much easier)\n",
    "dataset_solvent = xr.Dataset(\n",
    "    {\n",
    "        \"data\": ([\"time\",\"spectral\",], np.transpose(scan_solvent))\n",
    "    },\n",
    "    coords={\n",
    "        \"time\": time,\n",
    "        \"spectral\": lambda_values\n",
    "    }\n",
    ")\n",
    "\n",
    "# Print the dataset\n",
    "print(dataset_solvent)"
   ]
  },
  {
   "cell_type": "code",
   "execution_count": null,
   "id": "54af0644-aa49-43d1-97cb-9c0ee4be1347",
   "metadata": {},
   "outputs": [],
   "source": [
    "heatmap_interactive(dataset_solvent.time, dataset_solvent.spectral, dataset_solvent['data'].transpose('spectral','time'),'Averaged scan plot',_symlog=False)"
   ]
  },
  {
   "cell_type": "markdown",
   "id": "35836b90-fc86-4aea-a232-285fab7b8e52",
   "metadata": {},
   "source": [
    "## Visualization of the Solvent and data kinetic trace to see effect of substraction "
   ]
  },
  {
   "cell_type": "code",
   "execution_count": null,
   "id": "7c1238dc-3fc3-425b-a574-034e74e1d184",
   "metadata": {},
   "outputs": [],
   "source": [
    "# Select the data from both datasets\n",
    "wv = 500 #in nm \n",
    "\n",
    "plot_data_solvent = dataset_solvent.data.sel(spectral=[wv], method=\"nearest\").sel(time=slice(None, 10))\n",
    "plot_data = dataset.data.sel(spectral=[wv], method=\"nearest\").sel(time=slice(None, 10))\n",
    "\n",
    "# Create a plot\n",
    "plt.figure(figsize=(10, 5))\n",
    "\n",
    "# Plot the solvent data\n",
    "plt.plot(plot_data_solvent.time, plot_data_solvent, label='Solvent Data')\n",
    "\n",
    "# Plot the other dataset\n",
    "plt.plot(plot_data.time, plot_data, label='Cu(dpp) Data')\n",
    "\n",
    "# Add labels and title\n",
    "plt.xlabel('Time in ps')\n",
    "plt.ylabel('OD')\n",
    "plt.title(f'Solvent Data vs. Cu(bcp)2 at {wv} nm')\n",
    "# Add a legend\n",
    "plt.legend()\n",
    "plt.grid(\"On\")\n",
    "# Show the plot\n",
    "plt.show()"
   ]
  },
  {
   "cell_type": "markdown",
   "id": "e8cb6c63-b371-4a29-9aeb-3ae64461b9cd",
   "metadata": {},
   "source": [
    "# 3.Chirp correction from the solvent data using a polynomial Fit "
   ]
  },
  {
   "cell_type": "code",
   "execution_count": null,
   "id": "202349ed-75b9-422c-b1d5-924d4c26afc8",
   "metadata": {},
   "outputs": [],
   "source": [
    "# Initialization of the matices \n",
    "#Pick the region you want to do the chirp correction from\n",
    "lower_spectral_bound = 550 #in nm\n",
    "higher_spectral_bound = 610 #in nm\n",
    "\n",
    "\n",
    "spectral_region = dataset_solvent.sel(spectral=slice(lower_spectral_bound, higher_spectral_bound)).spectral\n",
    "time_coherence = np.zeros_like(spectral_region)\n",
    "\n",
    "for i in range(0,np.size(time_coherence)): #Find where is the maximum coherence in time \n",
    "    time_coherence[i] = time[dataset_solvent.data.sel(spectral=spectral_region[i], method=\"nearest\").argmax(dim='time')]\n",
    "\n",
    "#Fit type, can be changed for lin, poly2, poly4\n",
    "params_l, _ = curve_fit(lin, spectral_region, time_coherence)\n",
    "Fit_coherence = lin(spectral_region,*params_l)\n",
    "\n",
    "#Substraction\n",
    "time_chirp_corrected = np.zeros((np.shape(spectral_region)[0],np.shape(time)[0]))\n",
    "for i in range(0,np.size(time_coherence)):\n",
    "    time_chirp_corrected[i,:] = time - np.array(Fit_coherence[i])\n",
    "\n",
    "\n",
    "plt.figure()\n",
    "plt.plot(time_coherence,spectral_region,  'o', label='Data')\n",
    "plt.plot(Fit_coherence,spectral_region,  '-', label='Fit')\n",
    "plt.xlabel('Wavelength (in nm)')\n",
    "plt.ylabel('Position of the coherence max (in ps)')\n",
    "plt.legend()\n",
    "plt.grid(\"On\")\n",
    "plt.show()"
   ]
  },
  {
   "cell_type": "markdown",
   "id": "3556bc29-da94-4bea-8d63-6cbca334085f",
   "metadata": {},
   "source": [
    "## Chirp Correct the solvent data "
   ]
  },
  {
   "cell_type": "code",
   "execution_count": null,
   "id": "ce4cb9d5-30ca-4f19-ba18-8fd053c28798",
   "metadata": {},
   "outputs": [],
   "source": [
    "# Make a deep copy of the original dataset\n",
    "chirp_corrected_solvent = dataset_solvent.copy(deep=True)\n",
    "\n",
    "for i in range(0,np.size(time_coherence)):\n",
    "    spectral_val = spectral_region[i]\n",
    "    time_chirp = time_chirp_corrected[i, :]\n",
    "    data_slice = chirp_corrected_solvent.data.sel(spectral=spectral_val)\n",
    "    \n",
    "    # Perform interpolation\n",
    "    interpolated_function = interp1d(time_chirp,data_slice,bounds_error=False, fill_value=\"extrapolate\")\n",
    "    interpolated_data = interpolated_function(time)\n",
    "    \n",
    "    # Assign the interpolated data back to the dataset\n",
    "    chirp_corrected_solvent.data.loc[:, spectral_val] = interpolated_data\n",
    "\n",
    "#Set NaN values to 0\n",
    "chirp_corrected_solvent.data.values = np.nan_to_num(chirp_corrected_solvent.data.values)"
   ]
  },
  {
   "cell_type": "code",
   "execution_count": null,
   "id": "f2a971a3-9b33-4b76-a754-05c069b9bf66",
   "metadata": {},
   "outputs": [],
   "source": [
    "heatmap_interactive(chirp_corrected_solvent.time, chirp_corrected_solvent.spectral, chirp_corrected_solvent['data'].transpose('spectral','time'),'Averaged scan plot',_symlog=False)\n"
   ]
  },
  {
   "cell_type": "markdown",
   "id": "88b31ed2-d364-494e-947e-2a0075854c4c",
   "metadata": {},
   "source": [
    "## Chirp correct the data using the solvent fit "
   ]
  },
  {
   "cell_type": "code",
   "execution_count": null,
   "id": "807b4180-d562-4e8b-85b1-3233829ca345",
   "metadata": {},
   "outputs": [],
   "source": [
    "chirp_corrected_data = dataset.copy(deep=True)\n",
    "\n",
    "for i in range(0,np.size(time_coherence)):\n",
    "    spectral_val = spectral_region[i]\n",
    "    time_chirp = time_chirp_corrected[i, :]\n",
    "    data_slice = chirp_corrected_data.data.sel(spectral=spectral_val)\n",
    "    \n",
    "    # Perform interpolation\n",
    "    interpolated_function = interp1d(time_chirp,data_slice,bounds_error=False, fill_value=\"extrapolate\")\n",
    "    interpolated_data = interpolated_function(time)\n",
    "    \n",
    "    # Assign the interpolated data back to the dataset\n",
    "    chirp_corrected_data.data.loc[:, spectral_val] = interpolated_data\n"
   ]
  },
  {
   "cell_type": "code",
   "execution_count": null,
   "id": "0857d5d5-7eb0-4852-a2fb-0fbbe05a5600",
   "metadata": {},
   "outputs": [],
   "source": [
    "heatmap_interactive(chirp_corrected_data.time, chirp_corrected_data.spectral, chirp_corrected_data['data'].transpose('spectral','time'),'Averaged scan plot',_symlog=False)\n"
   ]
  },
  {
   "cell_type": "markdown",
   "id": "b6ce779f-4f66-42b2-9bdb-4f05b95091ae",
   "metadata": {},
   "source": [
    "# 4.Remove the coherence from the sample by substracting the solvent  "
   ]
  },
  {
   "cell_type": "markdown",
   "id": "6efb3729-2fd3-496a-b6ef-cc92b7725f0b",
   "metadata": {},
   "source": [
    "## Initial look at both chirp corrected traces "
   ]
  },
  {
   "cell_type": "code",
   "execution_count": null,
   "id": "fe717b36-71c2-451d-8186-2e448b8dfd54",
   "metadata": {},
   "outputs": [],
   "source": [
    "# Select the data from both datasets\n",
    "wv = 500 #in nm\n",
    "\n",
    "plot_data_solvent = chirp_corrected_solvent.data.sel(spectral=[wv], method=\"nearest\").sel(time=slice(None, 30))\n",
    "plot_data = chirp_corrected_data.data.sel(spectral=[wv], method=\"nearest\").sel(time=slice(None, 30))\n",
    "\n",
    "# Create a plot\n",
    "plt.figure(figsize=(10, 5))\n",
    "\n",
    "# Plot the solvent data\n",
    "plt.plot(plot_data_solvent.time, plot_data_solvent, label='Solvent Data')\n",
    "\n",
    "# Plot the other dataset\n",
    "plt.plot(plot_data.time, plot_data, label='Data')\n",
    "# Add labels and title\n",
    "plt.xlabel('Time in ps')\n",
    "plt.ylabel('OD')\n",
    "plt.title(f'Chriped corrected Solvent Data vs. data at {wv} nm')\n",
    "# Add a legend\n",
    "plt.legend()\n",
    "plt.grid(\"On\")\n",
    "# Show the plot\n",
    "plt.show()"
   ]
  },
  {
   "cell_type": "code",
   "execution_count": null,
   "id": "2b27bda2",
   "metadata": {},
   "outputs": [],
   "source": [
    "# Select the spectrum from both datasets\n",
    "t = 0.03 #in ps\n",
    "\n",
    "plot_data_solvent = chirp_corrected_solvent.data.sel(time=[t], method=\"nearest\").sel(spectral=slice(None, None))\n",
    "plot_data = chirp_corrected_data.data.sel(time=[t], method=\"nearest\").sel(spectral=slice(None, None))\n",
    "\n",
    "# Create a plot\n",
    "plt.figure(figsize=(10, 5))\n",
    "\n",
    "# Plot the solvent data\n",
    "plt.plot(plot_data_solvent.spectral, np.transpose(plot_data_solvent.data), label='Solvent Data')\n",
    "\n",
    "# Plot the other dataset\n",
    "plt.plot(plot_data.spectral, np.transpose(plot_data.data), label='Data')\n",
    "# Add labels and title\n",
    "plt.xlabel('wl in nm')\n",
    "plt.ylabel('OD')\n",
    "plt.title(f'Chriped corrected Solvent Data vs. data at {t} ps')\n",
    "# Add a legend\n",
    "plt.legend()\n",
    "plt.grid(\"On\")\n",
    "# Show the plot\n",
    "plt.show()"
   ]
  },
  {
   "cell_type": "markdown",
   "id": "26498060-28e4-4c20-ab00-26514ca489f1",
   "metadata": {},
   "source": [
    "## Subtraction"
   ]
  },
  {
   "cell_type": "code",
   "execution_count": null,
   "id": "e76667d2-95aa-438a-be57-e052f951a7cd",
   "metadata": {},
   "outputs": [],
   "source": [
    "processed_data = chirp_corrected_data - chirp_corrected_solvent\n",
    "heatmap_interactive(processed_data.time, processed_data.spectral, processed_data['data'].transpose('spectral','time'),'Averaged scan plot',_symlog=False)"
   ]
  },
  {
   "cell_type": "code",
   "execution_count": null,
   "id": "8a6c4345-cfeb-4def-a53c-6d91f7eff322",
   "metadata": {},
   "outputs": [],
   "source": [
    "#Visualize effect of the substraction on a kinetic trace\n",
    "\n",
    "wv = 500\n",
    "#in nm\n",
    "\n",
    "plot_data_sub = processed_data.data.sel(spectral=[wv], method=\"nearest\").sel(time=slice(None, 80))\n",
    "plot_data = chirp_corrected_data.data.sel(spectral=[wv], method=\"nearest\").sel(time=slice(None, 30))\n",
    "\n",
    "\n",
    "# Create a plot\n",
    "plt.figure(figsize=(10, 5))\n",
    "\n",
    "# Plot the other dataset\n",
    "plt.plot(plot_data.time, plot_data, label='Before substraction Data')\n",
    "plt.plot(plot_data_sub.time, plot_data_sub, label='After subtraction Data')\n",
    "\n",
    "# Add labels and title\n",
    "plt.xlabel('Time in ps')\n",
    "plt.ylabel('OD')\n",
    "plt.title(f'Chriped corrected & substracted Data at {wv} nm')\n",
    "# Add a legend\n",
    "plt.legend()\n",
    "plt.grid(\"On\")\n",
    "# Show the plot\n",
    "plt.show()"
   ]
  },
  {
   "cell_type": "markdown",
   "id": "dfee07be-4407-40b4-ac9f-cd23a34609dd",
   "metadata": {},
   "source": [
    "# 5.Smoothing the data"
   ]
  },
  {
   "cell_type": "code",
   "execution_count": null,
   "id": "0261dfa5",
   "metadata": {},
   "outputs": [],
   "source": [
    "# Choose which kind of smoothing you want (Moving average or Savitzky–Golay) \n",
    "\n",
    "smooth_method = \"Savitzky–Golay\"\n",
    "\n",
    "if smooth_method == \"Savitzky–Golay\": \n",
    "    smoothed_data = savgol_filter(processed_data.data.values, window_length = 50, polyorder= 3)\n",
    "\n",
    "    smoothed_dataset = xr.Dataset(\n",
    "    {\n",
    "        \"data\": ([\"time\", \"spectral\"], smoothed_data)\n",
    "    },\n",
    "    coords={\n",
    "        \"time\": processed_data.time.values,\n",
    "        \"spectral\": processed_data.spectral.values\n",
    "    }\n",
    "    )\n",
    "if smooth_method == \"Moving Average\": \n",
    "    window_size = 2 #Define size of the average window\n",
    "    window = np.ones(window_size) / window_size\n",
    "    smoothed_data = smooth_data_average_window(processed_data.data.values, window) \n",
    "    smoothed_dataset = xr.Dataset(\n",
    "    {\n",
    "        \"data\": ([\"time\", \"spectral\"], smoothed_data)\n",
    "    },\n",
    "    coords={\n",
    "        \"time\": processed_data.time.values,\n",
    "        \"spectral\": processed_data.spectral.values\n",
    "    }\n",
    ")\n"
   ]
  },
  {
   "cell_type": "code",
   "execution_count": null,
   "id": "2dfb521e-ed4c-460c-b56e-7c1bc4980cff",
   "metadata": {},
   "outputs": [],
   "source": [
    "#Look at a specific kinetic trace\n",
    "v = 500 #in nm\n",
    "\n",
    "plot_data = smoothed_dataset.data.sel(spectral=[wv], method=\"nearest\").sel(time=slice(None, 80))\n",
    "\n",
    "# Create a plot\n",
    "plt.figure(figsize=(10, 5))\n",
    "\n",
    "# Plot the other dataset\n",
    "plt.plot(plot_data.time, plot_data, label='Cu(dsbp) Data')\n",
    "\n",
    "# Add labels and title\n",
    "plt.xlabel('Time in ps')\n",
    "plt.ylabel('OD')\n",
    "plt.title(f'Fully processed Data at {wv} nm')\n",
    "# Add a legend\n",
    "plt.legend()\n",
    "plt.grid(\"On\")\n",
    "# Show the plot\n",
    "plt.show()"
   ]
  },
  {
   "cell_type": "code",
   "execution_count": null,
   "id": "f1e12a29-285a-4670-8de4-448923a132ca",
   "metadata": {},
   "outputs": [],
   "source": [
    "heatmap_interactive(smoothed_dataset.time, smoothed_dataset.spectral, smoothed_dataset['data'].transpose('spectral','time'),'Averaged scan plot',_symlog=False)"
   ]
  },
  {
   "cell_type": "markdown",
   "id": "87855bc1-3aae-4fe2-bf94-b15a598eb27f",
   "metadata": {},
   "source": [
    "# 6.Look at the processed data "
   ]
  },
  {
   "cell_type": "markdown",
   "id": "839bdd43-be7a-4390-8b4b-b0465b5b00ac",
   "metadata": {},
   "source": [
    "## Spectrum"
   ]
  },
  {
   "cell_type": "code",
   "execution_count": null,
   "id": "31cca7c3",
   "metadata": {},
   "outputs": [],
   "source": [
    "time"
   ]
  },
  {
   "cell_type": "code",
   "execution_count": null,
   "id": "53a66e27-a726-4709-802a-2867c572b8fb",
   "metadata": {},
   "outputs": [],
   "source": [
    "plot_data = smoothed_dataset.data.sel(time=[-1,0.01,0.02,0.03,0.04,0.045,0.06,0.07,0.08,0.09,0.1,0.14,0.16], method=\"nearest\").sel(spectral=slice(460, 700))\n",
    "ax = plot_data.plot.line(x=\"spectral\", aspect=2, size=5);\n",
    "plt.grid(True) \n",
    "plt.xlabel(\"Wavelength (nm)\")\n",
    "plt.ylabel(\"OD\")\n",
    "plt.show()"
   ]
  },
  {
   "cell_type": "code",
   "execution_count": null,
   "id": "cdde3720-9ac8-4a90-aa29-d02da62dd0e4",
   "metadata": {},
   "outputs": [],
   "source": [
    "plot_data = smoothed_dataset.data.sel(time=[0.16,0.18,0.2,0.25,0.3,0.4,0.5,0.7,0.9,1,1.2], method=\"nearest\").sel(spectral=slice(460, 700))\n",
    "ax = plot_data.plot.line(x=\"spectral\", aspect=2, size=5);\n",
    "plt.grid(True) \n",
    "plt.xlabel(\"Wavelength (nm)\")\n",
    "plt.ylabel(\"OD\")\n",
    "plt.show()"
   ]
  },
  {
   "cell_type": "code",
   "execution_count": null,
   "id": "5d51e855-eedb-4655-ab20-fb4fa083de33",
   "metadata": {},
   "outputs": [],
   "source": [
    "plot_data = smoothed_dataset.data.sel(time=[2,3,5,10,20,40,60,80], method=\"nearest\").sel(spectral=slice(460, 700))\n",
    "ax = plot_data.plot.line(x=\"spectral\", aspect=2, size=5);\n",
    "plt.grid(True) \n",
    "plt.xlabel(\"Wavelength (nm)\")\n",
    "plt.ylabel(\"OD\")\n",
    "plt.show()"
   ]
  },
  {
   "cell_type": "markdown",
   "id": "cb606d77-5617-4e1e-8d59-fb2008f26826",
   "metadata": {},
   "source": [
    "## Kinetics"
   ]
  },
  {
   "cell_type": "code",
   "execution_count": null,
   "id": "818ce404-957e-4341-9da7-0ed53dc7c5ca",
   "metadata": {},
   "outputs": [],
   "source": [
    "wv1 = 520 #in nm\n",
    "wv2 = 560 #in nm\n",
    "\n",
    "plot_data1 = smoothed_dataset.data.sel(spectral= wv1, method=\"nearest\").sel(time=slice(-2, 1))\n",
    "plot_data2 = smoothed_dataset.data.sel(spectral= wv2, method=\"nearest\").sel(time=slice(-2, 1))\n",
    "\n",
    "# Create a plot\n",
    "plt.figure(figsize=(10, 5))\n",
    "\n",
    "# Plot the other dataset\n",
    "plt.plot(plot_data1.time, plot_data1/np.max(plot_data1), label=f'{wv1} nm')\n",
    "plt.plot(plot_data2.time, plot_data2/np.max(plot_data2), label=f'{wv2} nm')\n",
    "# Add labels and title\n",
    "plt.xlabel('Time in ps')\n",
    "#plt.ylabel('OD')\n",
    "# Add a legend\n",
    "plt.legend()\n",
    "plt.grid(\"On\")\n",
    "# Show the plot\n",
    "plt.show()"
   ]
  },
  {
   "cell_type": "markdown",
   "id": "6d011297-423f-41ba-8b1a-ad571b800024",
   "metadata": {},
   "source": [
    "# 7.Save/import xarray  "
   ]
  },
  {
   "cell_type": "code",
   "execution_count": null,
   "id": "270ad184-cef6-467d-897e-966b7087f696",
   "metadata": {},
   "outputs": [],
   "source": [
    "# Save the dataset to a NetCDF file\n",
    "smoothed_dataset.to_netcdf(\"Cu(dmp)2_NotChirpedCorrected.nc\")"
   ]
  },
  {
   "cell_type": "markdown",
   "id": "99ee72cd",
   "metadata": {},
   "source": [
    "## Import an xarray for vizualization"
   ]
  },
  {
   "cell_type": "code",
   "execution_count": null,
   "id": "b82684a6-f0c5-4a3f-8e10-abab893a7eff",
   "metadata": {},
   "outputs": [],
   "source": [
    "dataset_file = askopenfilename(filetypes=[(\"NetCDF files\", \"*.nc\")], title=\"Select .nc data file\")\n",
    "smoothed_dataset = xr.load_dataset(dataset_file)\n",
    "\n",
    "print(smoothed_dataset)"
   ]
  },
  {
   "cell_type": "markdown",
   "id": "92feaa5a-548b-4dc2-9915-adaf0902faef",
   "metadata": {},
   "source": [
    "# Extra"
   ]
  },
  {
   "cell_type": "markdown",
   "id": "320b4af9",
   "metadata": {},
   "source": [
    "## 0.0. Get IRF Parameters"
   ]
  },
  {
   "cell_type": "markdown",
   "id": "69c3f6a7",
   "metadata": {},
   "source": [
    "##"
   ]
  },
  {
   "cell_type": "markdown",
   "id": "2006024c",
   "metadata": {},
   "source": [
    "#### FWHM of the coherence spike"
   ]
  },
  {
   "cell_type": "code",
   "execution_count": null,
   "id": "6aad1732",
   "metadata": {},
   "outputs": [],
   "source": [
    "def calculate_fwhm(spectral_data, time_coords):\n",
    "    spectral_data = np.abs(spectral_data)\n",
    "    peak_value = np.max(spectral_data)\n",
    "    half_max = peak_value / 2.0\n",
    "    indices_above_half = np.where(spectral_data >= half_max)[0]\n",
    "    \n",
    "    if len(indices_above_half) < 2:\n",
    "        return np.nan  # Not enough data to calculate FWHM\n",
    "    \n",
    "    max_value = np.where(spectral_data == peak_value )[0]\n",
    "    valid_indices = [max_value[0]] #Create an where where we gonna remove the data that are above the half but that don't correspond to the peak\n",
    "    current_value = max_value[0]\n",
    "    for i in  np.where(indices_above_half > max_value)[0]: #Look in the positive increment  \n",
    "        if indices_above_half[i] == current_value + 1:\n",
    "            valid_indices.append(indices_above_half[i])\n",
    "            current_value += 1\n",
    "        else:\n",
    "            break\n",
    "    current_value = max_value[0]\n",
    "    for i in  reversed(np.where(indices_above_half < max_value)[0]): #Look in the negative increment  \n",
    "        if indices_above_half[i] == current_value - 1:\n",
    "            valid_indices.insert(0,indices_above_half[i])\n",
    "            current_value -= 1\n",
    "        else:\n",
    "            break\n",
    "\n",
    "    # Interpolate to get a more accurate crossing point\n",
    "    f_left = interp1d(spectral_data[valid_indices[0]-1:valid_indices[0]+1], time_coords[valid_indices[0]-1:valid_indices[0]+1], kind='linear')\n",
    "    f_right = interp1d(spectral_data[valid_indices[-1]:valid_indices[-1]+2], time_coords[valid_indices[-1]:valid_indices[-1]+2], kind='linear')\n",
    "    left_half_max_time = f_left(half_max)\n",
    "    right_half_max_time = f_right(half_max)\n",
    "    \n",
    "    # Calculate FWHM as the difference between these two time points\n",
    "    fwhm = right_half_max_time - left_half_max_time\n",
    "\n",
    "    return fwhm"
   ]
  },
  {
   "cell_type": "code",
   "execution_count": null,
   "id": "c9a9c43d",
   "metadata": {},
   "outputs": [],
   "source": [
    "fwhm_values = []\n",
    "ROI = chirp_corrected_solvent.sel(spectral = slice(500,550))\n",
    "time_coords = ROI['time'].values\n",
    "for spectral_value in ROI.spectral.values:\n",
    "    spectral_data = ROI['data'].sel(spectral=spectral_value).values\n",
    "    fwhm = calculate_fwhm(spectral_data, time_coords)*1000 #convert to fs\n",
    "    fwhm_values.append(fwhm)"
   ]
  },
  {
   "cell_type": "code",
   "execution_count": null,
   "id": "b5ece69b",
   "metadata": {},
   "outputs": [],
   "source": [
    "plt.figure()\n",
    "plt.plot(ROI.spectral,fwhm_values,'x')\n",
    "plt.grid(\"On\")\n",
    "plt.xlabel(\"Wavelength (nm)\")\n",
    "plt.ylabel(\"FWHM (fs)\")\n",
    "plt.show()"
   ]
  },
  {
   "cell_type": "code",
   "execution_count": null,
   "id": "e2ea1933",
   "metadata": {},
   "outputs": [],
   "source": [
    "#### Fit with the FWHM trend with a polynome\n",
    "\n",
    "params_l, _ = curve_fit(poly3, ROI.spectral, fwhm_values, method= \"dogbox\")\n",
    "Fit_IRF = poly3(ROI.spectral,*params_l)\n",
    "\n",
    "plt.figure()\n",
    "plt.plot(ROI.spectral,fwhm_values,  'o', label='Data')\n",
    "plt.plot(ROI.spectral,Fit_IRF, '-', label='Fit')\n",
    "plt.xlabel('Wavelength (in nm)')\n",
    "plt.ylabel('FWHM (fs)')\n",
    "plt.legend()\n",
    "plt.grid(\"On\")\n",
    "plt.show()\n",
    "print(params_l)"
   ]
  },
  {
   "cell_type": "markdown",
   "id": "512a9d03",
   "metadata": {},
   "source": [
    "## Position of the coherence spike"
   ]
  },
  {
   "cell_type": "code",
   "execution_count": null,
   "id": "9a303dcb",
   "metadata": {},
   "outputs": [],
   "source": [
    "max_t = []\n",
    "ROI = np.abs(chirp_corrected_solvent.sel(spectral = slice(500,550)))\n",
    "time_coords = ROI['time'].values\n",
    "\n",
    "for spectral_value in ROI.spectral.values:\n",
    "    spectral_data = ROI['data'].sel(spectral=spectral_value).values\n",
    "    peak_value = np.max(spectral_data)\n",
    "    max_value = np.where(spectral_data == peak_value )[0]\n",
    "    max_t.append(time_coords[max_value][0])"
   ]
  },
  {
   "cell_type": "code",
   "execution_count": null,
   "id": "3bf692f4",
   "metadata": {},
   "outputs": [],
   "source": [
    "plt.figure()\n",
    "plt.plot(ROI.spectral,max_t,'x')\n",
    "#plt.axhline(y=116, color='r', linestyle='--', linewidth=2)\n",
    "plt.grid(\"On\")\n",
    "plt.xlabel(\"Wavelength (nm)\")\n",
    "plt.ylabel(\"Max position (ps)\")\n",
    "plt.show()"
   ]
  },
  {
   "cell_type": "code",
   "execution_count": null,
   "id": "94e343a3",
   "metadata": {},
   "outputs": [],
   "source": [
    "params_lin, _ = curve_fit(lin,ROI.spectral.values,max_t, method= \"dogbox\")\n",
    "Fit_max = lin(ROI.spectral,*params_lin)\n",
    "\n",
    "plt.figure()\n",
    "plt.plot(ROI.spectral,max_t,  'o', label='Data')\n",
    "plt.plot(ROI.spectral,Fit_max, '-', label='Fit')\n",
    "plt.xlabel('Wavelength (in nm)')\n",
    "plt.ylabel('Max position (ps)')\n",
    "plt.legend()\n",
    "plt.grid(\"On\")\n",
    "plt.show()\n",
    "print(params_lin)"
   ]
  },
  {
   "cell_type": "code",
   "execution_count": null,
   "id": "3f5c1e3a",
   "metadata": {},
   "outputs": [],
   "source": [
    "plot_data = dataset.data.sel(spectral=520, method=\"nearest\").sel(time=slice(None, None))\n",
    "plot_data.plot.line(x=\"time\", aspect=2, size=5)\n",
    "plt.grid(True) \n",
    "plt.ylabel('OD')\n",
    "plt.xlabel('Time fs')"
   ]
  }
 ],
 "metadata": {
  "kernelspec": {
   "display_name": "Python 3 (ipykernel)",
   "language": "python",
   "name": "python3"
  },
  "language_info": {
   "codemirror_mode": {
    "name": "ipython",
    "version": 3
   },
   "file_extension": ".py",
   "mimetype": "text/x-python",
   "name": "python",
   "nbconvert_exporter": "python",
   "pygments_lexer": "ipython3",
   "version": "3.10.14"
  }
 },
 "nbformat": 4,
 "nbformat_minor": 5
}
