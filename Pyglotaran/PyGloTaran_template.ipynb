{
 "cells": [
  {
   "cell_type": "markdown",
   "id": "a9d291874e135139",
   "metadata": {
    "collapsed": false
   },
   "source": [
    "# 0.Prelude "
   ]
  },
  {
   "cell_type": "code",
   "execution_count": null,
   "id": "dc827553946d08bf",
   "metadata": {
    "collapsed": false
   },
   "outputs": [],
   "source": [
    "import numpy as np\n",
    "import matplotlib.pyplot as plt\n",
    "import matplotlib.gridspec as gridspec\n",
    "from tkinter.filedialog import askopenfilename, askopenfilenames\n",
    "import xarray as xr\n",
    "from pyglotaran_extras import plot_data_overview\n",
    "# allow multiple outputs in one cell\n",
    "from IPython.core.interactiveshell import InteractiveShell\n",
    "from pyglotaran_extras import plot_data_overview\n",
    "from pyglotaran_extras import plot_overview\n",
    "from pyglotaran_extras.io.utils import result_dataset_mapping\n",
    "InteractiveShell.ast_node_interactivity = 'all'\n",
    "from glotaran.project import Project\n",
    "from pyglotaran_extras.plotting.plot_traces import plot_data_and_fits\n",
    "from pyglotaran_extras import plot_fitted_traces\n",
    "from pyglotaran_extras.plotting.style import PlotStyle\n",
    "from pyglotaran_extras import plot_overview\n",
    "from pyglotaran_extras.plotting.plot_concentrations import plot_concentrations\n",
    "from pyglotaran_extras.io.load_data import load_data\n",
    "from pyglotaran_extras.plotting.plot_spectra import plot_sas\n",
    "%matplotlib widget\n",
    "\n",
    "\n",
    "# Define various function that are useful for data visualization \n",
    "# Might be nice to create a librairy to import in the future \n",
    "\n",
    "def heatmap_interactive(_x, _y, _data, _title, _cmap='jet', _symlog=False):\n",
    "    fig = plt.figure(figsize=(8, 8))\n",
    "    gs = gridspec.GridSpec(2, 2, width_ratios=[1, 0.5], height_ratios=[0.5, 1], hspace=0.2, wspace=0.2)\n",
    "    ax_main = plt.subplot(gs[1, 0])\n",
    "    main_plot = ax_main.pcolormesh(_x, _y, _data, cmap=_cmap)\n",
    "    ax_main.set(xlabel='Delay / ps', ylabel='Wavelength / nm')\n",
    "    # set mixed log-lin scale with threshold value linthresh\n",
    "    if _symlog:\n",
    "        ax_main.set_xscale('symlog', linthresh=0.01)\n",
    "    # set axis range to min and max values\n",
    "    ax_main.set_xlim(_x[0],_x[-1])\n",
    "    ax_main.set_ylim(_y[0],_y[-1]) \n",
    "\n",
    "    ax_kin = plt.subplot(gs[0, 0])\n",
    "    line_kin, = ax_kin.plot(_x,np.zeros(_x.shape))\n",
    "    kin_zero_line, = ax_kin.plot([_x[0],_x[-1]],[0,0], color=\"0.6\")\n",
    "    ax_kin.set_xlim(_x[0],_x[-1])\n",
    "    if _symlog:\n",
    "        ax_kin.set_xscale('symlog', linthresh=0.01)\n",
    "\n",
    "    ax_spec = plt.subplot(gs[1, 1])\n",
    "    line_spec, = ax_spec.plot(np.zeros(_y.shape),_y)\n",
    "    spec_zero_line, = ax_spec.plot([0,0],[_y[0],_y[-1]], color=\"0.6\")\n",
    "    ax_spec.set_ylim(_y[0],_y[-1])        \n",
    "    \n",
    "    # This lower bounds list is necessary because the blocks in the 2D-plot cover a certain range\n",
    "    def create_lower_bounds(_value_list):\n",
    "        result = np.empty_like(_value_list)\n",
    "        #first lower bound is equal to the lowest value in the nm-list\n",
    "        result[0] = _value_list[0]\n",
    "        #example: lower bound for 100 ps is 97.5 ps if the value prior is 95 ps, and 75 ps if the value prior is 50 ps.\n",
    "        for i in range(1,len(_value_list)):\n",
    "            result[i] = (_value_list[i]+_value_list[i-1])/2\n",
    "        return result    \n",
    "    \n",
    "    nm_lower_bounds = create_lower_bounds(_y)\n",
    "    time_lower_bounds = create_lower_bounds(_x)\n",
    "    \n",
    "    def nm_to_index(_nm):\n",
    "        return np.where(_nm > nm_lower_bounds)[0][-1]\n",
    "    \n",
    "    def time_to_index(_time):\n",
    "        return np.where(_time > time_lower_bounds)[0][-1]\n",
    "    \n",
    "    def mouse_move(event):\n",
    "        x = event.xdata\n",
    "        y = event.ydata\n",
    "        if x is not None and y is not None:\n",
    "            if x>=_x[0] and x<=_x[-1] and y>=_y[0] and y<=_y[-1]:\n",
    "                # update spectra slice and rescale\n",
    "                new_spec = _data[:,time_to_index(x)]\n",
    "                line_spec.set_xdata(new_spec)\n",
    "                spec_bounds = ax_spec.get_ylim()\n",
    "                spec_range = new_spec[(_y>=spec_bounds[0]) & (_y<=spec_bounds[1])].max()-new_spec[(_y>=spec_bounds[0]) & (_y<=spec_bounds[1])].min()\n",
    "                ax_spec.set_xlim(new_spec[(_y>=spec_bounds[0]) & (_y<=spec_bounds[1])].min()-0.1*spec_range,new_spec[(_y>=spec_bounds[0]) & (_y<=spec_bounds[1])].max()+0.1*spec_range)            \n",
    "\n",
    "                # update kinetic slice and rescale\n",
    "                new_kin = _data[nm_to_index(y),:]\n",
    "                line_kin.set_ydata(new_kin)\n",
    "                kin_bounds = ax_kin.get_xlim()  \n",
    "                kin_range = new_kin[(_x>=kin_bounds[0]) & (_x<=kin_bounds[1])].max()-new_kin[(_x>=kin_bounds[0]) & (_x<=kin_bounds[1])].min()                \n",
    "                ax_kin.set_ylim(new_kin[(_x>=kin_bounds[0]) & (_x<=kin_bounds[1])].min()-0.1*kin_range,new_kin[(_x>=kin_bounds[0]) & (_x<=kin_bounds[1])].max()+0.1*kin_range)\n",
    "                \n",
    "                # redraw figure\n",
    "                fig.canvas.draw_idle()\n",
    "             \n",
    "    fig.canvas.mpl_connect('motion_notify_event', mouse_move) \n",
    "    \n",
    "    # find max absolute value of 2D data in the specified zoom mode of the plot\n",
    "    def get_maxvalue(_xlim, _ylim, _xvals, _yvals, _data_array):\n",
    "        y_filter = (_yvals>=_ylim[0]) & (_yvals<=_ylim[1])\n",
    "        x_filter = (_xvals>=_xlim[0]) & (_xvals<=_xlim[1])\n",
    "        \n",
    "        if not np.all(y_filter == False) and not np.all(x_filter == False):\n",
    "            return np.amax(np.abs(_data_array[y_filter][:,x_filter]))\n",
    "        else:\n",
    "            return 0\n",
    "    \n",
    "    def on_xlims_change(event_ax):\n",
    "        ax_kin.set_xlim(event_ax.get_xlim())\n",
    "        \n",
    "        new_max = get_maxvalue(event_ax.get_xlim(),event_ax.get_ylim(),_x,_y,_data)\n",
    "        if new_max > 0:\n",
    "            main_plot.set_clim(vmin=-new_max, vmax=new_max)\n",
    "\n",
    "    def on_ylims_change(event_ax):\n",
    "        ax_spec.set_ylim(event_ax.get_ylim())\n",
    "        \n",
    "        new_max = get_maxvalue(event_ax.get_xlim(),event_ax.get_ylim(),_x,_y,_data)\n",
    "        if new_max > 0:\n",
    "            main_plot.set_clim(vmin=-new_max, vmax=new_max)        \n",
    "\n",
    "    ax_main.callbacks.connect('xlim_changed', on_xlims_change)\n",
    "    ax_main.callbacks.connect('ylim_changed', on_ylims_change)\n",
    "   \n",
    "    plt.show(block=False)\n",
    " \n",
    "# Find the index of the closest value you input. Very useful to find the index of the nearest wavelength\n",
    "# you are looking for when cutting the spectral region for instance\n",
    "\n",
    "def find_closest(A, target):\n",
    "    #A must be sorted\n",
    "    idx = A.searchsorted(target)\n",
    "    idx = np.clip(idx, 1, len(A)-1)\n",
    "    left = A[idx-1]\n",
    "    right = A[idx]\n",
    "    idx -= target - left < right - target\n",
    "    return idx\n",
    "\n",
    "def heatmap_interactive_fit(_result, dataset_name, _cmap='jet', _symlog=False):\n",
    "    #Extract values from the result\n",
    "    result_map = result_dataset_mapping(result)\n",
    "    _x = result_map[dataset_name].time.values\n",
    "    _y = result_map[dataset_name].spectral.values\n",
    "    _data = np.transpose(result_map[dataset_name].data.values)\n",
    "    _fit = result_map[dataset_name].fitted_data.values\n",
    "    _irf = result_map[dataset_name].center_dispersion_1.values\n",
    "    \n",
    "    # Main heatmap plot\n",
    "    fig = plt.figure(figsize=(8, 8))\n",
    "    gs = gridspec.GridSpec(2, 2, width_ratios=[1, 0.5], height_ratios=[0.5, 1], hspace=0.2, wspace=0.2)\n",
    "    ax_main = plt.subplot(gs[1, 0])\n",
    "    main_plot = ax_main.pcolormesh(_x, _y, _data, cmap=_cmap)\n",
    "    irf_plot, = ax_main.plot(_irf, _y, 'k', label = 'IRF')\n",
    "    ax_main.set(xlabel='Delay / ps', ylabel='Wavelength / nm')\n",
    "    # set mixed log-lin scale with threshold value linthresh\n",
    "    if _symlog:\n",
    "        ax_main.set_xscale('symlog', linthresh=0.01)\n",
    "    # set axis range to min and max values\n",
    "    ax_main.set_xlim(_x[0],_x[-1])\n",
    "    ax_main.set_ylim(_y[0],_y[-1]) \n",
    "    ax_main.legend()\n",
    "    # Kinetic plot\n",
    "    ax_kin = plt.subplot(gs[0, 0])\n",
    "    line_kin, = ax_kin.plot(_x,np.zeros(_x.shape),label = 'data')\n",
    "    fit_kin, =  ax_kin.plot(_x,np.zeros(_x.shape),'--r', label = 'Fit')\n",
    "    kin_zero_line, = ax_kin.plot([_x[0],_x[-1]],[0,0], color=\"0.6\")\n",
    "    ax_kin.set_xlim(_x[0],_x[-1])\n",
    "    ax_kin.legend()\n",
    "    if _symlog:\n",
    "        ax_kin.set_xscale('symlog', linthresh=0.01)\n",
    "        \n",
    "    # Spectral plot\n",
    "    ax_spec = plt.subplot(gs[1, 1])\n",
    "    line_spec, = ax_spec.plot(np.zeros(_y.shape),_y)\n",
    "    spec_zero_line, = ax_spec.plot([0,0],[_y[0],_y[-1]], color=\"0.6\")\n",
    "    ax_spec.set_ylim(_y[0],_y[-1])        \n",
    "\n",
    "   \n",
    "    # This lower bounds list is necessary because the blocks in the 2D-plot cover a certain range\n",
    "    def create_lower_bounds(_value_list):\n",
    "        result = np.empty_like(_value_list)\n",
    "        #first lower bound is equal to the lowest value in the nm-list\n",
    "        result[0] = _value_list[0]\n",
    "        #example: lower bound for 100 ps is 97.5 ps if the value prior is 95 ps, and 75 ps if the value prior is 50 ps.\n",
    "        for i in range(1,len(_value_list)):\n",
    "            result[i] = (_value_list[i]+_value_list[i-1])/2\n",
    "        return result    \n",
    "    \n",
    "    nm_lower_bounds = create_lower_bounds(_y)\n",
    "    time_lower_bounds = create_lower_bounds(_x)\n",
    "    \n",
    "    def nm_to_index(_nm):\n",
    "        return np.where(_nm > nm_lower_bounds)[0][-1]\n",
    "    \n",
    "    def time_to_index(_time):\n",
    "        return np.where(_time > time_lower_bounds)[0][-1]\n",
    "    \n",
    "    def mouse_move(event):\n",
    "        x = event.xdata\n",
    "        y = event.ydata\n",
    "        if x is not None and y is not None:\n",
    "            if x>=_x[0] and x<=_x[-1] and y>=_y[0] and y<=_y[-1]:\n",
    "                # update spectra slice and rescale\n",
    "                new_spec = _data[:,time_to_index(x)]\n",
    "                line_spec.set_xdata(new_spec)\n",
    "                spec_bounds = ax_spec.get_ylim()\n",
    "                spec_range = new_spec[(_y>=spec_bounds[0]) & (_y<=spec_bounds[1])].max()-new_spec[(_y>=spec_bounds[0]) & (_y<=spec_bounds[1])].min()\n",
    "                ax_spec.set_xlim(new_spec[(_y>=spec_bounds[0]) & (_y<=spec_bounds[1])].min()-0.1*spec_range,new_spec[(_y>=spec_bounds[0]) & (_y<=spec_bounds[1])].max()+0.1*spec_range)            \n",
    "\n",
    "                # update kinetic slice and rescale\n",
    "                new_kin = _data[nm_to_index(y),:]\n",
    "                new_fit = _fit[:,nm_to_index(y)]\n",
    "                line_kin.set_ydata(new_kin)\n",
    "                fit_kin.set_ydata(new_fit)\n",
    "                kin_bounds = ax_kin.get_xlim()  \n",
    "                kin_range = new_kin[(_x>=kin_bounds[0]) & (_x<=kin_bounds[1])].max()-new_kin[(_x>=kin_bounds[0]) & (_x<=kin_bounds[1])].min()                \n",
    "                ax_kin.set_ylim(new_kin[(_x>=kin_bounds[0]) & (_x<=kin_bounds[1])].min()-0.1*kin_range,new_kin[(_x>=kin_bounds[0]) & (_x<=kin_bounds[1])].max()+0.1*kin_range)\n",
    "                \n",
    "                # redraw figure\n",
    "                fig.canvas.draw_idle()\n",
    "             \n",
    "    fig.canvas.mpl_connect('motion_notify_event', mouse_move) \n",
    "    \n",
    "    # find max absolute value of 2D data in the specified zoom mode of the plot\n",
    "    def get_maxvalue(_xlim, _ylim, _xvals, _yvals, _data_array):\n",
    "        y_filter = (_yvals>=_ylim[0]) & (_yvals<=_ylim[1])\n",
    "        x_filter = (_xvals>=_xlim[0]) & (_xvals<=_xlim[1])\n",
    "        \n",
    "        if not np.all(y_filter == False) and not np.all(x_filter == False):\n",
    "            return np.amax(np.abs(_data_array[y_filter][:,x_filter]))\n",
    "        else:\n",
    "            return 0\n",
    "    \n",
    "    def on_xlims_change(event_ax):\n",
    "        ax_kin.set_xlim(event_ax.get_xlim())\n",
    "        \n",
    "        new_max = get_maxvalue(event_ax.get_xlim(),event_ax.get_ylim(),_x,_y,_data)\n",
    "        if new_max > 0:\n",
    "            main_plot.set_clim(vmin=-new_max, vmax=new_max)\n",
    "\n",
    "    def on_ylims_change(event_ax):\n",
    "        ax_spec.set_ylim(event_ax.get_ylim())\n",
    "        \n",
    "        new_max = get_maxvalue(event_ax.get_xlim(),event_ax.get_ylim(),_x,_y,_data)\n",
    "        if new_max > 0:\n",
    "            main_plot.set_clim(vmin=-new_max, vmax=new_max)        \n",
    "\n",
    "    ax_main.callbacks.connect('xlim_changed', on_xlims_change)\n",
    "    ax_main.callbacks.connect('ylim_changed', on_ylims_change)\n",
    "    \n",
    "\n",
    "    plt.show(block=False)"
   ]
  },
  {
   "cell_type": "markdown",
   "id": "e1f125063b72428e",
   "metadata": {
    "collapsed": false
   },
   "source": [
    "# 1.Import the data file(s) "
   ]
  },
  {
   "cell_type": "markdown",
   "id": "2860798632e3cef",
   "metadata": {
    "collapsed": false
   },
   "source": [
    "## Option 1: Import the data from text file "
   ]
  },
  {
   "cell_type": "code",
   "execution_count": null,
   "id": "44c31cb78198fbef",
   "metadata": {
    "collapsed": false
   },
   "outputs": [],
   "source": [
    "#Pump Wavelenght (in nm)\n",
    "Pump = 400 \n",
    "\n",
    "#Wavelength Calibaration\n",
    "pixels = np.arange(0, 2048)\n",
    "calibration = (0.2380, 301.8)  # A and B linear calibration parameters\n",
    "lambda_values = calibration[0] * pixels + calibration[1]\n",
    "\n",
    "#Get time vector data file\n",
    "time_file = askopenfilename(filetypes=[(\"Text files\", \"*.txt\")], title=\"Select Time vector data\")\n",
    "time = np.loadtxt(time_file)\n",
    "\n",
    "\n",
    "# Get TA scan files\n",
    "ta_scan_files = askopenfilenames(filetypes=[(\"Text files\", \"*.txt\")], title=\"Select TA scan files\")\n",
    "\n",
    "if len(ta_scan_files) > 1:\n",
    "    Full_Data = np.zeros((2048, len(time), len(ta_scan_files))) #Array that will contain all the \n",
    "    for n, file in enumerate(ta_scan_files):\n",
    "        data = np.loadtxt(file)\n",
    "        Full_Data[:, :, n] = data  # save data array to 3D array (lambda, time, scan)\n",
    "    \n",
    "    for ii in range(len(ta_scan_files)): #Flip the sign if pump scatter is not negative.\n",
    "        for jj in range(len(time)):\n",
    "            if Full_Data[Pump, jj, ii] > 0:\n",
    "                Full_Data[:, jj, ii] *= -1\n",
    "\n",
    "    scan = np.mean(Full_Data, axis=2)\n",
    "else:\n",
    "    scan = np.loadtxt(ta_scan_files[0])\n",
    "# Now 'scan' contains the processed data\n",
    "\n",
    "dataset = xr.Dataset(\n",
    "    {\n",
    "        \"data\": ([\"time\",\"spectral\"], np.transpose(scan))\n",
    "    },\n",
    "    coords={\n",
    "        \"time\": time,\n",
    "        \"spectral\": lambda_values\n",
    "    }\n",
    ")\n",
    "\n",
    "# Print the dataset\n",
    "print(dataset)"
   ]
  },
  {
   "cell_type": "markdown",
   "id": "97688a84aa2440bb",
   "metadata": {
    "collapsed": false
   },
   "source": [
    "## Option 2: Import the data from NetCDF file "
   ]
  },
  {
   "cell_type": "markdown",
   "id": "c86d79cb055b97d",
   "metadata": {
    "collapsed": false
   },
   "source": [
    "Import the data this way if you used the code \"TA Analysis\" to do an initial treatment of the data and you want to import the reasulting xarray.\n",
    "\n",
    "The code \"TA Analysis\" can be found on Github at the following link:\n",
    "https://github.com/SchlauCohenLab/"
   ]
  },
  {
   "cell_type": "code",
   "execution_count": null,
   "id": "52f4c6162e7fd5d5",
   "metadata": {
    "collapsed": false
   },
   "outputs": [],
   "source": [
    "dataset_file = askopenfilename(filetypes=[(\"NetCDF files\", \"*.nc\")], title=\"Select .nc data file\")\n",
    "dataset = xr.load_dataset(dataset_file)\n",
    "\n",
    "print(dataset)"
   ]
  },
  {
   "cell_type": "markdown",
   "id": "b616fbd30a05ec71",
   "metadata": {
    "collapsed": false
   },
   "source": [
    "# 2.Data manipulation"
   ]
  },
  {
   "cell_type": "markdown",
   "id": "5d74e67c",
   "metadata": {},
   "source": [
    "### Global Overview"
   ]
  },
  {
   "cell_type": "code",
   "execution_count": null,
   "id": "d88fe7bd43ae3ff7",
   "metadata": {
    "collapsed": false
   },
   "outputs": [],
   "source": [
    "plot_data_overview(dataset, linlog=True, linthresh=1,figsize = (12,8));"
   ]
  },
  {
   "cell_type": "code",
   "execution_count": null,
   "id": "95250b28fccece59",
   "metadata": {
    "collapsed": false
   },
   "outputs": [],
   "source": [
    "heatmap_interactive(dataset.time, dataset.spectral, dataset['data'].transpose('spectral','time'),'Averaged scan plot',_symlog=False)"
   ]
  },
  {
   "cell_type": "markdown",
   "id": "586af74bcefebe99",
   "metadata": {
    "collapsed": false
   },
   "source": [
    "### View of a spectrum"
   ]
  },
  {
   "cell_type": "code",
   "execution_count": null,
   "id": "2f583d55bf40ac05",
   "metadata": {
    "collapsed": false
   },
   "outputs": [],
   "source": [
    "wv = 518.1\n",
    "plot_data = dataset.data.sel(spectral=[518.1], method=\"nearest\").sel(time=slice(None, 10))\n",
    "plot_data.plot.line(x=\"time\", aspect=2, size=5);"
   ]
  },
  {
   "cell_type": "markdown",
   "id": "24fc5aa95b0bda48",
   "metadata": {
    "collapsed": false
   },
   "source": [
    "### kinetic trace(s)"
   ]
  },
  {
   "cell_type": "code",
   "execution_count": null,
   "id": "fee07e6280bb800f",
   "metadata": {
    "collapsed": false
   },
   "outputs": [],
   "source": [
    "plot_data = dataset.data.sel(time=[10,25], method=\"nearest\").sel(spectral=slice(409, 755))\n",
    "ax = plot_data.plot.line(x=\"spectral\", aspect=2, size=5);\n",
    "plt.grid(True) \n",
    "plt.show()"
   ]
  },
  {
   "cell_type": "markdown",
   "id": "233b3c9de3e879d9",
   "metadata": {
    "collapsed": false
   },
   "source": [
    "### View of two different normalized kinetic trace"
   ]
  },
  {
   "cell_type": "code",
   "execution_count": null,
   "id": "f239571fcb1a5cf4",
   "metadata": {
    "collapsed": false
   },
   "outputs": [],
   "source": [
    "wv1 = 525 #in nm\n",
    "wv2 = 580 #in nm\n",
    "\n",
    "plot_data_1 = dataset.data.sel(spectral=wv1, method=\"nearest\").sel(time=slice(-2, 1))\n",
    "plot_data_2 = dataset.data.sel(spectral=wv2, method=\"nearest\").sel(time=slice(-2, 1))\n",
    "\n",
    "# Create a plot\n",
    "plt.figure(figsize=(10, 5))\n",
    "\n",
    "plt.plot(plot_data_1.time, plot_data_1/np.max(plot_data_1), label=f'{wv1} nm')\n",
    "plt.plot(plot_data_2.time, plot_data_2/np.max(plot_data_2), label=f'{wv2} nm')\n",
    "plt.legend()\n",
    "plt.xlabel('Time in ps')\n",
    "plt.grid(\"On\")\n",
    "plt.show()"
   ]
  },
  {
   "cell_type": "markdown",
   "id": "318e384500ec6c5e",
   "metadata": {
    "collapsed": false
   },
   "source": [
    "### Cut WL and time (If needed)"
   ]
  },
  {
   "cell_type": "code",
   "execution_count": null,
   "id": "83daabf5bf82c03b",
   "metadata": {
    "collapsed": false
   },
   "outputs": [],
   "source": [
    "# Visualize the spectrum at a certain time\n",
    "data_at_specific_time = dataset.sel(time=20)\n",
    "\n",
    "# Plot the data against the spectral dimension\n",
    "plt.figure(figsize=(10, 6))\n",
    "data_at_specific_time[\"data\"].plot()\n",
    "plt.xlabel(\"Spectral (nm)\")\n",
    "plt.ylabel(\"Data Value\")\n",
    "plt.grid(True)\n",
    "plt.show()"
   ]
  },
  {
   "cell_type": "code",
   "execution_count": null,
   "id": "5963854a82dfede",
   "metadata": {
    "collapsed": false,
    "is_executing": true
   },
   "outputs": [],
   "source": [
    "## Cut the dataset to a specific time and spectral range \n",
    "time_min =  find_closest(time, 0.5)\n",
    "time_max = find_closest(time, 10)\n",
    "spectral_min = find_closest(lambda_values, 700)\n",
    "spectral_max = find_closest(lambda_values, 700)\n",
    "\n",
    "ds = xr.Dataset(\n",
    "    {\n",
    "        \"data\": ([\"time\",\"spectral\"], np.transpose(scan[spectral_min:spectral_max,time_min:time_max]))\n",
    "    },\n",
    "    coords={\n",
    "        \"time\": time[time_min:time_max],\n",
    "        \"spectral\": lambda_values[spectral_min:spectral_max]\n",
    "    }\n",
    ")\n",
    "\n",
    "# Print the dataset\n",
    "print(ds)"
   ]
  },
  {
   "cell_type": "code",
   "execution_count": null,
   "id": "9d0286dd71aaf18e",
   "metadata": {
    "collapsed": false
   },
   "outputs": [],
   "source": [
    "heatmap_interactive(ds.time,ds.spectral,ds['data'].transpose('spectral','time'),'Averaged scan plot',_symlog=False)"
   ]
  },
  {
   "cell_type": "code",
   "execution_count": null,
   "id": "31ade043bf78c332",
   "metadata": {
    "collapsed": false
   },
   "outputs": [],
   "source": [
    "plot_data_overview(ds, linlog=False, linthresh=1,figsize = (12,8))"
   ]
  },
  {
   "cell_type": "markdown",
   "id": "7a6dfe15",
   "metadata": {},
   "source": [
    "### Single Wavelength (If needed)"
   ]
  },
  {
   "cell_type": "code",
   "execution_count": null,
   "id": "65d8fe18",
   "metadata": {},
   "outputs": [],
   "source": [
    "SW =  dataset.data.sel(spectral=[550], method=\"nearest\") \n",
    "plot_data_overview(SW_550nm)"
   ]
  },
  {
   "cell_type": "markdown",
   "id": "b8ce7457",
   "metadata": {},
   "source": [
    "### Integrate data in one dimension (If needed)"
   ]
  },
  {
   "cell_type": "code",
   "execution_count": null,
   "id": "21b47e45",
   "metadata": {},
   "outputs": [],
   "source": [
    "Data_integrated = ds['data'].integrate(\"spectral\")\n",
    "ds_int = Data_integrated.expand_dims(spectral=[550.0]) #Recreate a spectral label, needed for the optimization\n",
    "from pyglotaran_extras import plot_data_overview\n",
    "plot_data_overview(ds_int, linlog=False, linthresh=1,figsize = [10,8]);"
   ]
  },
  {
   "cell_type": "markdown",
   "id": "a3834aec05849d7",
   "metadata": {
    "collapsed": false
   },
   "source": [
    "# 3.Project and optimization"
   ]
  },
  {
   "cell_type": "code",
   "execution_count": null,
   "id": "4924407b9eed00ec",
   "metadata": {
    "collapsed": false
   },
   "outputs": [],
   "source": [
    "#Create a project folder\n",
    "project = Project.open(\"Cu(bcp)2\")"
   ]
  },
  {
   "cell_type": "markdown",
   "id": "ec499afa",
   "metadata": {},
   "source": [
    "### Load previous result"
   ]
  },
  {
   "cell_type": "code",
   "execution_count": null,
   "id": "b6d508f8",
   "metadata": {},
   "outputs": [],
   "source": [
    "result = project.load_result(\"dmp_model_run_0080\") "
   ]
  },
  {
   "cell_type": "markdown",
   "id": "a514e98d",
   "metadata": {},
   "source": [
    "### Import the data"
   ]
  },
  {
   "cell_type": "code",
   "execution_count": null,
   "id": "d1fc88b2029c6163",
   "metadata": {
    "collapsed": false
   },
   "outputs": [],
   "source": [
    "project.import_data(ds, dataset_name=\"bcp_int\") "
   ]
  },
  {
   "cell_type": "markdown",
   "id": "00c6ea41",
   "metadata": {},
   "source": [
    "### Model and parameters"
   ]
  },
  {
   "cell_type": "code",
   "execution_count": null,
   "id": "88f261ef3632a433",
   "metadata": {
    "collapsed": false
   },
   "outputs": [],
   "source": [
    "project.show_model_definition(\"dmp_model_V2\")"
   ]
  },
  {
   "cell_type": "code",
   "execution_count": null,
   "id": "649170022dddcac6",
   "metadata": {
    "collapsed": false
   },
   "outputs": [],
   "source": [
    "project.show_parameters_definition(\"dmp_parameters_V2\")"
   ]
  },
  {
   "cell_type": "code",
   "execution_count": null,
   "id": "4ecf524677792c64",
   "metadata": {
    "collapsed": false
   },
   "outputs": [],
   "source": [
    "project.validate(\"bcp_model\",\"bcp_parameters\")"
   ]
  },
  {
   "cell_type": "markdown",
   "id": "391b903b",
   "metadata": {},
   "source": [
    "## Optimization and results "
   ]
  },
  {
   "cell_type": "code",
   "execution_count": null,
   "id": "d64415ac2f1b34bf",
   "metadata": {
    "collapsed": false
   },
   "outputs": [],
   "source": [
    "result = project.optimize(\n",
    "    model_name=\"bcp_model\",\n",
    "    parameters_name=\"bcp_parameters\",\n",
    "    maximum_number_function_evaluations=500,\n",
    ")"
   ]
  },
  {
   "cell_type": "code",
   "execution_count": null,
   "id": "f06852b497d87828",
   "metadata": {
    "collapsed": false
   },
   "outputs": [],
   "source": [
    "result.optimized_parameters"
   ]
  },
  {
   "cell_type": "code",
   "execution_count": null,
   "id": "7d281195",
   "metadata": {},
   "outputs": [],
   "source": [
    "result.data[\"bcp_int\"].lifetime_decay"
   ]
  },
  {
   "cell_type": "code",
   "execution_count": null,
   "id": "dc6558a0e37815f0",
   "metadata": {
    "collapsed": false
   },
   "outputs": [],
   "source": [
    "heatmap_interactive_fit(result, dataset_name = \"bcp_int\", _symlog= False)"
   ]
  },
  {
   "cell_type": "code",
   "execution_count": null,
   "id": "fccc7436",
   "metadata": {},
   "outputs": [],
   "source": [
    "fig, axes = plot_overview(result, linlog=True, linthresh=1, nr_of_residual_svd_vectors=1,figsize=(10, 14))"
   ]
  },
  {
   "cell_type": "markdown",
   "id": "3b503114",
   "metadata": {},
   "source": [
    "### Specific plots and visualization"
   ]
  },
  {
   "cell_type": "code",
   "execution_count": null,
   "id": "7dd01ee0385f05db",
   "metadata": {
    "collapsed": false
   },
   "outputs": [],
   "source": [
    "##Look at the fit at a specific wl \n",
    "axes_shape = (1, 1)\n",
    "fig, axes = plt.subplots(*axes_shape, figsize= [11,8])\n",
    "\n",
    "plot_data_and_fits(result, wavelength = 520.046, axis = axes)"
   ]
  },
  {
   "cell_type": "code",
   "execution_count": null,
   "id": "59c9e24b",
   "metadata": {},
   "outputs": [],
   "source": [
    "##Look at the fit at several wl \n",
    "\n",
    "wavelengths = [495,518,540,560,585,600,630,650]\n",
    "fig3tr, axes = plot_fitted_traces(\n",
    "    result,\n",
    "    wavelengths,\n",
    "    axes_shape=(4, 2),\n",
    "    linlog=True,\n",
    "    linthresh=1,\n",
    "    cycler=PlotStyle().data_cycler_solid_dashed,\n",
    "    figsize=(10, 10)\n",
    ")\n",
    "for ax in axes.flatten():\n",
    "    ax_title = ax.get_title()\n",
    "    ax.set_title(rf\"{ax_title.replace('spectral', 'Wavelength')}$\\,$nm\")\n",
    "    ax.set_xlabel(\"Time (ps)\")"
   ]
  },
  {
   "cell_type": "code",
   "execution_count": null,
   "id": "5ec7871c",
   "metadata": {},
   "outputs": [],
   "source": [
    "##Look at the fit at soe random wl \n",
    "wavelengths = select_plot_wavelengths(\n",
    "    result.data[\"bcp_int\"], equidistant_wavelengths=True, axes_shape=(2, 3)\n",
    ")\n",
    "fig3tr, axes = plot_fitted_traces(\n",
    "    result,\n",
    "    wavelengths,\n",
    "    axes_shape=(2, 3),\n",
    "    linlog=True,\n",
    "    linthresh=1,\n",
    "    cycler=PlotStyle().data_cycler_solid_dashed,\n",
    "    figsize=(10, 6)\n",
    ")\n",
    "for ax in axes.flatten():\n",
    "    ax_title = ax.get_title()\n",
    "    ax.set_title(rf\"{ax_title.replace('spectral', 'Wavelength')}$\\,$nm\")\n",
    "    ax.set_xlabel(\"Time (ps)\")"
   ]
  },
  {
   "cell_type": "code",
   "execution_count": null,
   "id": "6d31d56c3565e176",
   "metadata": {
    "collapsed": false
   },
   "outputs": [],
   "source": [
    "#Look at the residuals \n",
    "result_dataset = result.data[\"bcp_int\"]\n",
    "\n",
    "residual_left = result_dataset.residual_left_singular_vectors.sel(left_singular_value_index=0)\n",
    "residual_left.plot.line(x=\"time\", aspect=2, size=5)"
   ]
  },
  {
   "cell_type": "code",
   "execution_count": null,
   "id": "f48a8ae885059882",
   "metadata": {
    "collapsed": false
   },
   "outputs": [],
   "source": [
    "## Concentration and SAS \n",
    "res = load_data(result, _stacklevel=3)\n",
    "center_lab  = min(res.sizes[\"spectral\"], round(res.sizes[\"spectral\"] / 2))\n",
    "\n",
    "fig, axs = plt.subplots(1, 2, figsize=(14, 8))\n",
    "plot_concentrations(res, axs[0],center_lab) \n",
    "#axs[0].plot(res.irf.sel(time=slice(0,None)))\n",
    "#axs[0].plot(res.coherent_artifact_response[:,0].sel(time=slice(0,None)))\n",
    "#labels = [f'{res.species[0].values}',f'{res.species[1].values}',f'{res.species[2].values}',\"IRF\",'1st order coherence artifact response']\n",
    "#axs[0].legend(labels)\n",
    "axs[0].set_xlabel('time in ps')\n",
    "plot_sas(res, axs[1])"
   ]
  },
  {
   "cell_type": "code",
   "execution_count": null,
   "id": "209b6dc33c4989e",
   "metadata": {
    "collapsed": false
   },
   "outputs": [],
   "source": [
    "\n",
    "\n"
   ]
  }
 ],
 "metadata": {
  "kernelspec": {
   "display_name": "Python 3",
   "language": "python",
   "name": "python3"
  },
  "language_info": {
   "codemirror_mode": {
    "name": "ipython",
    "version": 2
   },
   "file_extension": ".py",
   "mimetype": "text/x-python",
   "name": "python",
   "nbconvert_exporter": "python",
   "pygments_lexer": "ipython2",
   "version": "2.7.6"
  }
 },
 "nbformat": 4,
 "nbformat_minor": 5
}
